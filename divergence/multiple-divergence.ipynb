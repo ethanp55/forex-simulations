{
 "cells": [
  {
   "cell_type": "code",
   "execution_count": 1,
   "metadata": {},
   "outputs": [],
   "source": [
    "import numpy as np\n",
    "import pandas as pd"
   ]
  },
  {
   "cell_type": "code",
   "execution_count": 2,
   "metadata": {},
   "outputs": [],
   "source": [
    "file_path = '/Users/mymac/Google Drive/My Drive/Forex_Robot/'"
   ]
  },
  {
   "cell_type": "code",
   "execution_count": 3,
   "metadata": {},
   "outputs": [],
   "source": [
    "currency_pair = 'Eur_Usd'\n",
    "rounding = 3 if 'Jpy' in currency_pair else 5"
   ]
  },
  {
   "cell_type": "code",
   "execution_count": 4,
   "metadata": {},
   "outputs": [],
   "source": [
    "df = pd.read_csv(file_path + f'Oanda_{currency_pair}_M5_2022-2023.csv')\n",
    "df.Date = pd.to_datetime(df.Date)\n",
    "df.reset_index(drop=True, inplace=True)"
   ]
  },
  {
   "cell_type": "code",
   "execution_count": 5,
   "metadata": {},
   "outputs": [],
   "source": [
    "def atr(high, low, close, lookback=14):\n",
    "    high_low = high - low\n",
    "    high_close = np.abs(high - close.shift())\n",
    "    low_close = np.abs(low - close.shift())\n",
    "    ranges = pd.concat([high_low, high_close, low_close], axis=1)\n",
    "    true_range = np.max(ranges, axis=1)\n",
    "\n",
    "    return true_range.rolling(lookback).mean()\n",
    "\n",
    "def atr_bands(high, low, close, lookback=14, atr_multiplier=3):\n",
    "    scaled_atr_vals = atr(high, low, close, lookback) * atr_multiplier\n",
    "    lower_band = close - scaled_atr_vals\n",
    "    upper_band = close + scaled_atr_vals\n",
    "\n",
    "    return lower_band, upper_band"
   ]
  },
  {
   "cell_type": "code",
   "execution_count": null,
   "metadata": {},
   "outputs": [],
   "source": [
    "df['lower_atr_band'], df['upper_atr_band'] = atr_bands(df['Mid_High'], df['Mid_Low'], df['Mid_Close'])\n"
   ]
  }
 ],
 "metadata": {
  "kernelspec": {
   "display_name": "forex",
   "language": "python",
   "name": "python3"
  },
  "language_info": {
   "codemirror_mode": {
    "name": "ipython",
    "version": 3
   },
   "file_extension": ".py",
   "mimetype": "text/x-python",
   "name": "python",
   "nbconvert_exporter": "python",
   "pygments_lexer": "ipython3",
   "version": "3.8.15"
  },
  "orig_nbformat": 4
 },
 "nbformat": 4,
 "nbformat_minor": 2
}

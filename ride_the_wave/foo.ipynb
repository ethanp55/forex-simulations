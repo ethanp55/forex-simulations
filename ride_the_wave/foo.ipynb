{
 "cells": [
  {
   "cell_type": "code",
   "execution_count": 179,
   "metadata": {},
   "outputs": [],
   "source": [
    "import cvxpy as cp\n",
    "import numpy as np"
   ]
  },
  {
   "cell_type": "markdown",
   "metadata": {},
   "source": [
    "### HW 8, problem 2"
   ]
  },
  {
   "cell_type": "code",
   "execution_count": 1,
   "metadata": {},
   "outputs": [
    {
     "name": "stdout",
     "output_type": "stream",
     "text": [
      "[(14.25, 5), (16.75, 3), (11.0, 2), (5.5, 2), (0, 0)]\n",
      "[(15.25, 4), (15.75, 2), (10.0, 1), (4.5, 1), (5, 0)]\n",
      "[(16.25, 3), (14.75, 1), (9.0, 0), (3.5, 0), (10, 0)]\n",
      "[(17.25, 2), (13.75, 0), (8.0, 0), (5.5, 0), (15, 0)]\n",
      "[(18.25, 1), (13.75, 0), (8.0, 0), (11.5, 0), (20, 0)]\n",
      "[(19.25, 0), (13.75, 0), (9.5, 0), (17.5, 0), (25, 0)]\n"
     ]
    }
   ],
   "source": [
    "C_X, C_D, C_K = 1, 3, 5\n",
    "x_k_vals, k_vals = list(range(6)), list(range(5))\n",
    "capacity = len(x_k_vals) - 1\n",
    "n_rows, n_cols = len(x_k_vals), len(k_vals)\n",
    "res = [[None for _ in range(n_cols)] for _ in range(n_rows)]\n",
    "d_dist = [[0.0, 0.0, 0.0, 0.0],\n",
    "          [0.0, 0.0, 0.0, 0.0],\n",
    "          [0.5, 0.25, 0.5, 0.5],\n",
    "          [0.5, 0.75, 0.5, 0.5]]\n",
    "\n",
    "for j in range(n_cols - 1, -1, -1):\n",
    "    C_U = 0 if j == 0 else 2\n",
    "\n",
    "    for i in range(n_rows):\n",
    "        # Base case\n",
    "        if j == n_cols - 1:\n",
    "            v_k, u_k = C_K * i, 0\n",
    "\n",
    "        # All other cases (use dynamic programming)\n",
    "        else:\n",
    "            e_d_k1 = 0\n",
    "\n",
    "            for d in range(len(d_dist)):\n",
    "                e_d_k1 += d * d_dist[d][j]\n",
    "\n",
    "            possible_v_k_vals = []\n",
    "\n",
    "            for u in x_k_vals:\n",
    "                if u + i > capacity:\n",
    "                    continue\n",
    "\n",
    "                g = (C_U * u) + (C_X * i) + (C_D * max(0, e_d_k1 - i - u))\n",
    "                e_v_k1 = 0\n",
    "\n",
    "                for d in range(len(d_dist)):\n",
    "                    x_k1 = max(0, i + u - d)\n",
    "                    e_v_k1 += d_dist[d][j] * res[x_k1][j + 1][0]\n",
    "\n",
    "                possible_v_k_vals.append((g + e_v_k1, u))\n",
    "\n",
    "            v_k, u_k = min(possible_v_k_vals, key=lambda x: x[0])\n",
    "\n",
    "        res[i][j] = (v_k, u_k)\n",
    "\n",
    "for row in res:\n",
    "    print(row)\n"
   ]
  },
  {
   "cell_type": "markdown",
   "metadata": {},
   "source": [
    "### HW 9, problem 2"
   ]
  },
  {
   "cell_type": "code",
   "execution_count": 99,
   "metadata": {},
   "outputs": [
    {
     "name": "stdout",
     "output_type": "stream",
     "text": [
      "Optimal input sequence u: [-2.91053553e+00 -5.82107111e+00 -2.85857946e-01 -5.71715917e-01\n",
      " -2.80755095e-02 -5.61512231e-02 -2.75744326e-03 -5.51695963e-03\n",
      " -2.70923807e-04]\n"
     ]
    }
   ],
   "source": [
    "# Given parameters\n",
    "l = 1\n",
    "g = 9.8\n",
    "m = 0.3\n",
    "T = 9\n",
    "\n",
    "# Define matrices A, B, and C\n",
    "A = np.array([[0, 1], [g / l, 0]])\n",
    "B = np.array([[0], [1 / (m * l**2)]])\n",
    "C = np.array([[1, 0]])\n",
    "\n",
    "# Define the initial condition\n",
    "x1 = np.array([1, 2])\n",
    "\n",
    "# Define the decision variables\n",
    "x = cp.Variable((2, T + 1))\n",
    "u = cp.Variable((1, T))\n",
    "\n",
    "# Define the cost function\n",
    "cost = 0\n",
    "\n",
    "# Define the constraints\n",
    "constraints = [x[:, T] == 0, x[:, 0] == x1]\n",
    "\n",
    "for k in range(T):\n",
    "    cost += cp.sum_squares(C @ x[:, k]) + 3 * cp.sum_squares(u[:, k])\n",
    "    constraints += [x[:, k + 1] == A @ x[:, k] + B @ u[:, k]]\n",
    "\n",
    "# Formulate the optimization problem\n",
    "problem = cp.Problem(cp.Minimize(cost), constraints)\n",
    "\n",
    "# Solve the problem\n",
    "problem.solve()\n",
    "\n",
    "# Extract the optimal input sequence\n",
    "optimal_u = u.value\n",
    "print(\"Optimal input sequence u:\", optimal_u.flatten())"
   ]
  },
  {
   "cell_type": "code",
   "execution_count": 94,
   "metadata": {},
   "outputs": [
    {
     "data": {
      "text/plain": [
       "array([[1.00000000e+00, 2.00000000e+00],\n",
       "       [2.00000000e+00, 9.82148956e-02],\n",
       "       [9.82148956e-02, 1.96429618e-01],\n",
       "       [1.96429618e-01, 9.64615722e-03],\n",
       "       [9.64615722e-03, 1.92905368e-02],\n",
       "       [1.92905368e-02, 9.47309029e-04],\n",
       "       [9.47309029e-04, 1.87651688e-03],\n",
       "       [1.87651688e-03, 9.21509548e-05],\n",
       "       [9.21509548e-05, 2.98434304e-20],\n",
       "       [1.49208479e-20, 1.00384470e-24]])"
      ]
     },
     "execution_count": 94,
     "metadata": {},
     "output_type": "execute_result"
    }
   ],
   "source": [
    "states = x.value\n",
    "\n",
    "states.T"
   ]
  },
  {
   "cell_type": "code",
   "execution_count": 95,
   "metadata": {},
   "outputs": [
    {
     "data": {
      "text/plain": [
       "133.354617846427"
      ]
     },
     "execution_count": 95,
     "metadata": {},
     "output_type": "execute_result"
    }
   ],
   "source": [
    "cost.value"
   ]
  },
  {
   "cell_type": "code",
   "execution_count": 117,
   "metadata": {},
   "outputs": [
    {
     "name": "stdout",
     "output_type": "stream",
     "text": [
      "1083725212461752.6\n"
     ]
    }
   ],
   "source": [
    "costs = []\n",
    "\n",
    "for _ in range(1000):\n",
    "    # u = np.random.uniform(-6, 0, T)\n",
    "    u = [-1] * 9\n",
    "    cost = 0\n",
    "    x = np.array([1, 2])\n",
    "\n",
    "    for k in range(T):\n",
    "        curr_u = u[k]\n",
    "        foo = C @ x\n",
    "        foo1 = (foo.T @ foo)\n",
    "        cost += foo1 ** 2 + 3 * curr_u ** 2\n",
    "        x = A @ x + B @ np.array([curr_u])\n",
    "\n",
    "    costs.append(cost)\n",
    "\n",
    "print(np.array(costs).mean())"
   ]
  },
  {
   "cell_type": "markdown",
   "metadata": {},
   "source": [
    "### HW 9, problem 3"
   ]
  },
  {
   "cell_type": "code",
   "execution_count": 29,
   "metadata": {},
   "outputs": [
    {
     "name": "stdout",
     "output_type": "stream",
     "text": [
      "[-121.91400819   49.27368737]\n",
      "[-19.43317743 -25.05705566]\n",
      "[2.87271787 0.44747956]\n",
      "[0.1636993  0.37159108]\n",
      "[0. 0.]\n"
     ]
    }
   ],
   "source": [
    "A = np.array([[1, 2, 0], [-4, 1, 0], [0, -1, 3]])\n",
    "B = np.array([[1, 2], [0, -1], [-1, 0]])\n",
    "C = np.array([[-1, 4, 0], [2, 0, 0]])\n",
    "R = np.array([[1, 0], [0, 3]])\n",
    "x = np.array([-13, 25, 20])\n",
    "K = 5\n",
    "v_vals = []\n",
    "p_vals = [0] * (K + 1)\n",
    "p_vals[-1] = np.array([[0, 0, 0], [0, 0, 0], [0, 0, 0]])\n",
    "x_vals = []\n",
    "\n",
    "# Calculate the all of the P values first\n",
    "for i in range(K - 1, -1, -1):\n",
    "    p_k1 = p_vals[i + 1]\n",
    "    p_k = C.T @ C + A.T @ p_k1 @ A - A.T @ p_k1 @ B @ np.linalg.inv(R + B.T @ p_k1 @ B) @ B.T @ p_k1 @ A\n",
    "    p_vals[i] = p_k\n",
    "\n",
    "# Use the P values to calculate all of the V values (while also keeping track of the state x)\n",
    "for i in range(K):\n",
    "    x_vals.append(x)\n",
    "    p_k, p_k1 = p_vals[i], p_vals[i + 1]\n",
    "    v_k = x.T @ p_k @ x\n",
    "    v_vals.append(v_k)\n",
    "    u = -x @ A.T @ p_k1 @ B @ np.linalg.inv(R + B.T @ p_k1 @ B)\n",
    "    print(u)\n",
    "    x = A @ x + B @ u"
   ]
  },
  {
   "cell_type": "code",
   "execution_count": 25,
   "metadata": {},
   "outputs": [
    {
     "data": {
      "text/plain": [
       "[48112.797348392196,\n",
       " 12521.08315224423,\n",
       " 54.57251183276591,\n",
       " 2.1083493081315248,\n",
       " 0.0390220633416327]"
      ]
     },
     "execution_count": 25,
     "metadata": {},
     "output_type": "execute_result"
    }
   ],
   "source": [
    "v_vals"
   ]
  },
  {
   "cell_type": "code",
   "execution_count": 26,
   "metadata": {},
   "outputs": [
    {
     "data": {
      "text/plain": [
       "[array([-13,  25,  20]),\n",
       " array([ 13.63336656,  27.72631263, 156.91400819]),\n",
       " array([-4.61296933e-01, -1.75009794e+00,  4.62448889e+02]),\n",
       " array([-1.93815822e-01, -3.52389773e-01,  1.38622405e+03]),\n",
       " array([8.28608974e-03, 5.12824373e-02, 4.15886084e+03])]"
      ]
     },
     "execution_count": 26,
     "metadata": {},
     "output_type": "execute_result"
    }
   ],
   "source": [
    "x_vals"
   ]
  },
  {
   "cell_type": "markdown",
   "metadata": {},
   "source": [
    "### HW 9, problem 4 (exercise 17.1 in the book)"
   ]
  },
  {
   "cell_type": "code",
   "execution_count": 41,
   "metadata": {},
   "outputs": [
    {
     "name": "stdout",
     "output_type": "stream",
     "text": [
      "(2,)\n",
      "(128,)\n",
      "(1095,)\n",
      "(1501,)\n",
      "(193,)\n",
      "[array([0, 1], dtype=int32), array([    1,     4,     5,    16,    17,    64,    65,   256,   257,\n",
      "        1024,  1025,  4096,  4097, 16384, 16385, 65536, 65537],\n",
      "      dtype=int32), array([     6,      9,     18,     24,     25,     33,     36,     37,\n",
      "           66,     72,     73,     96,     97,    129,    132,    133,\n",
      "          144,    145,    258,    264,    265,    288,    289,    384,\n",
      "          385,    513,    516,    517,    528,    529,    576,    577,\n",
      "         1026,   1032,   1033,   1056,   1057,   1152,   1153,   1536,\n",
      "         1537,   2049,   2052,   2053,   2064,   2065,   2112,   2113,\n",
      "         2304,   2305,   4098,   4104,   4105,   4128,   4129,   4224,\n",
      "         4225,   4608,   4609,   6144,   6145,   8193,   8196,   8197,\n",
      "         8208,   8209,   8256,   8257,   8448,   8449,   9216,   9217,\n",
      "        16386,  16392,  16393,  16416,  16417,  16512,  16513,  16896,\n",
      "        16897,  18432,  18433,  24576,  24577,  32769,  32772,  32773,\n",
      "        32784,  32785,  32832,  32833,  33024,  33025,  33792,  33793,\n",
      "        36864,  36865,  65538,  65544,  65545,  65568,  65569,  65664,\n",
      "        65665,  66048,  66049,  67584,  67585,  73728,  73729,  98304,\n",
      "        98305, 131073, 131076, 131077, 131088, 131089, 131136, 131137,\n",
      "       131328, 131329, 132096, 132097, 135168, 135169, 147456, 147457],\n",
      "      dtype=int32), array([    22,     25,     37,     70,     73,     82,     88,     89,\n",
      "           97,    100,    101,    133,    145,    148,    262,    265,\n",
      "          274,    280,    281,    289,    292,    293,    322,    328,\n",
      "          329,    352,    353,    385,    388,    389,    400,    401,\n",
      "          517,    529,    532,    577,    580,    581,    592,    593,\n",
      "         1030,   1033,   1042,   1048,   1049,   1057,   1060,   1061,\n",
      "         1090,   1096,   1097,   1120,   1121,   1153,   1156,   1157,\n",
      "         1168,   1169,   1282,   1288,   1289,   1312,   1313,   1408,\n",
      "         1409,   1537,   1540,   1541,   1552,   1553,   1600,   1601,\n",
      "         2053,   2065,   2068,   2113,   2116,   2117,   2128,   2129,\n",
      "         2305,   2308,   2309,   2320,   2321,   2368,   2369,   4102,\n",
      "         4105,   4114,   4120,   4121,   4129,   4132,   4133,   4162,\n",
      "         4168,   4192,   4225,   4228,   4229,   4240,   4241,   4354,\n",
      "         4360,   4361,   4384,   4385,   4480,   4481,   4609,   4612,\n",
      "         4613,   4624,   4625,   4672,   5122,   5128,   5129,   5152,\n",
      "         5153,   5248,   5249,   5632,   5633,   6145,   6148,   6149,\n",
      "         6160,   6161,   6208,   6400,   6401,   8197,   8209,   8212,\n",
      "         8257,   8260,   8261,   8272,   8273,   8449,   8452,   8453,\n",
      "         8464,   8465,   8512,   8513,   9217,   9220,   9221,   9232,\n",
      "         9233,   9280,   9281,   9472,   9473,  16390,  16393,  16402,\n",
      "        16408,  16409,  16417,  16420,  16421,  16513,  16516,  16517,\n",
      "        16528,  16529,  16642,  16648,  16649,  16672,  16673,  16768,\n",
      "        16769,  16897,  16900,  16901,  16912,  16913,  17410,  17416,\n",
      "        17417,  17440,  17441,  17536,  17537,  17920,  17921,  18433,\n",
      "        18436,  18437,  18448,  18449,  18688,  18689,  20482,  20488,\n",
      "        20489,  20512,  20513,  20608,  20609,  20992,  20993,  22528,\n",
      "        22529,  24577,  24580,  24581,  24592,  24593,  24832,  24833,\n",
      "        25600,  25601,  32773,  32785,  32788,  32833,  32836,  32837,\n",
      "        32848,  32849,  33025,  33028,  33029,  33040,  33041,  33088,\n",
      "        33089,  33793,  33796,  33797,  33808,  33809,  33856,  33857,\n",
      "        34048,  34049,  36865,  36868,  36869,  36880,  36881,  36928,\n",
      "        37120,  37121,  37888,  37889,  65542,  65545,  65554,  65560,\n",
      "        65561,  65569,  65572,  65573,  65602,  65608,  65609,  65632,\n",
      "        65633,  65665,  65668,  65669,  65680,  65681,  65794,  65800,\n",
      "        65824,  65920,  66049,  66052,  66053,  66064,  66065,  66112,\n",
      "        66113,  66562,  66568,  66569,  66592,  66593,  66688,  66689,\n",
      "        67072,  67073,  67585,  67588,  67589,  67600,  67601,  67648,\n",
      "        67649,  67840,  69634,  69640,  69641,  69664,  69665,  69760,\n",
      "        69761,  70144,  70145,  71680,  71681,  73729,  73732,  73733,\n",
      "        73744,  73745,  73792,  73793,  73984,  74752,  74753,  81922,\n",
      "        81928,  81929,  81952,  81953,  82048,  82049,  82432,  82433,\n",
      "        83968,  83969,  90112,  90113,  98305,  98308,  98309,  98320,\n",
      "        98321,  98368,  98369,  98560,  99328,  99329, 102400, 102401,\n",
      "       131077, 131089, 131092, 131137, 131140, 131141, 131152, 131153,\n",
      "       131329, 131332, 131333, 131344, 131345, 131392, 131393, 132097,\n",
      "       132100, 132101, 132112, 132113, 132160, 132161, 132352, 132353,\n",
      "       135169, 135172, 135173, 135184, 135185, 135232, 135424, 135425,\n",
      "       136192, 136193, 147457, 147460, 147461, 147472, 147473, 147712,\n",
      "       147713, 148480, 148481, 151552, 151553], dtype=int32), array([    90,    102,    105, ..., 168193, 168960, 168961], dtype=int32), array([   346,    358,    361, ..., 169024, 169216, 169217], dtype=int32), array([  1434,   1446,   1449, ..., 170256, 170257, 170304], dtype=int32), array([  5530,   5545,   5722,   5734,   5782,   5785,   5797,   6490,\n",
      "         6553,   6742,   9625,   9637,   9814,   9817,  10582,  10585,\n",
      "        10597,  17818,  17833,  18070,  18073,  18085,  18841,  20890,\n",
      "        20905,  21142,  21145,  21157,  21658,  21670,  21673,  21898,\n",
      "        21922,  21928,  21929,  22042,  22054,  22057,  22150,  22153,\n",
      "        22162,  22168,  22169,  22177,  22180,  22181,  22678,  22681,\n",
      "        22693,  22810,  22825,  22921,  22930,  22936,  22937,  22945,\n",
      "        23062,  23065,  23077,  24985,  25753,  25765,  25882,  25897,\n",
      "        25993,  26008,  26009,  26017,  26134,  26137,  26245,  26257,\n",
      "        26260,  26905,  27025,  34198,  34201,  34213,  34390,  34405,\n",
      "        35158,  35161,  35173,  37210,  37273,  37462,  37978,  37990,\n",
      "        38038,  38041,  38053,  38170,  38185,  38281,  38290,  38296,\n",
      "        38297,  38305,  38422,  38437,  38470,  38482,  38500,  38533,\n",
      "        38545,  38548,  38998,  39193,  39250,  39256,  39313,  39508,\n",
      "        41302,  41305,  41317,  42070,  42073,  42085,  42262,  42265,\n",
      "        42277,  42373,  42385,  42388,  42565,  42577,  42580,  43333,\n",
      "        43345,  43348,  66982,  67174,  67177,  67237,  67930,  67942,\n",
      "        67990,  68182,  68185,  68197,  70042,  70234,  70246,  70294,\n",
      "        70297,  70309,  70822,  70825,  71050,  71074,  71080,  71206,\n",
      "        71209,  71242,  71266,  71272,  71302,  71305,  71329,  71332,\n",
      "        71333,  71770,  71782,  71830,  71833,  71845,  71962,  72010,\n",
      "        72034,  72040,  72082,  72088,  72214,  72217,  72229,  72262,\n",
      "        72274,  72280,  72292,  74074,  74086,  74326,  74329,  74854,\n",
      "        74857,  74917,  75046,  75172,  75334,  75337,  75397,  75862,\n",
      "        75865,  75877,  76054,  76102,  76114,  76120,  76132,  76180,\n",
      "        76357,  76369,  76372,  82330,  82582,  82585,  82597,  83110,\n",
      "        83113,  83338,  83362,  83368,  83494,  83497,  83590,  83593,\n",
      "        83617,  83620,  83621,  84118,  84121,  84133,  84250,  84370,\n",
      "        84376,  84502,  84505,  84517,  90265,  90277,  90394,  90520,\n",
      "        90646,  90649,  90757,  90769,  90772,  91174,  91177,  91273,\n",
      "        91297,  91300,  91301,  91402,  91426,  91432,  91528,  91552,\n",
      "        91654,  91657,  91777,  91780,  91781,  92182,  92185,  92197,\n",
      "        92293,  92305,  92308,  92434,  92440,  92560,  92677,  92689,\n",
      "        92692,  98650,  98662,  98710,  98902,  98917,  99430,  99433,\n",
      "        99493,  99622,  99718,  99748,  99877,  99910,  99937,  99940,\n",
      "        99941,  99973, 100438, 100441, 100453, 100630, 100678, 100690,\n",
      "       100696, 100708, 100756, 100933, 100945, 100948, 102490, 102502,\n",
      "       102550, 102553, 102565, 102682, 102730, 102754, 102760, 102802,\n",
      "       102808, 102934, 102949, 102982, 102994, 103012, 103045, 103057,\n",
      "       103060, 103462, 103465, 103498, 103522, 103528, 103558, 103561,\n",
      "       103585, 103588, 103589, 103690, 103714, 103720, 103810, 103816,\n",
      "       103840, 103942, 103969, 103972, 103973, 104002, 104032, 104065,\n",
      "       104068, 104069, 104470, 104473, 104485, 104518, 104530, 104536,\n",
      "       104548, 104581, 104593, 104596, 104722, 104728, 104770, 104776,\n",
      "       104800, 104848, 104965, 104977, 104980, 105028, 105040, 106582,\n",
      "       106585, 106597, 106774, 106822, 106834, 106840, 106852, 106900,\n",
      "       107077, 107089, 107092, 107557, 107590, 107593, 107617, 107620,\n",
      "       107621, 107653, 107782, 107812, 107908, 108037, 108097, 108100,\n",
      "       108101, 108613, 108625, 108628, 108820, 108868, 108880, 132502,\n",
      "       132505, 132517, 132697, 132709, 133462, 133465, 135514, 135577,\n",
      "       136282, 136294, 136342, 136345, 136357, 136474, 136489, 136585,\n",
      "       136594, 136600, 136601, 136609, 136729, 136741, 136792, 136804,\n",
      "       136837, 136849, 136852, 137302, 137497, 137554, 137560, 137617,\n",
      "       137812, 139606, 139609, 139621, 140374, 140377, 140389, 140566,\n",
      "       140569, 140581, 140677, 140689, 140692, 140869, 140881, 140884,\n",
      "       141637, 141649, 141652, 147865, 148630, 148633, 148645, 148762,\n",
      "       148777, 148873, 148882, 148888, 148889, 148897, 149017, 149029,\n",
      "       149125, 149137, 149140, 149785, 149905, 151702, 151705, 151717,\n",
      "       151834, 151849, 151945, 151954, 151960, 151961, 151969, 152089,\n",
      "       152101, 152197, 152209, 152212, 152602, 152614, 152617, 152710,\n",
      "       152713, 152722, 152728, 152729, 152737, 152740, 152741, 152842,\n",
      "       152866, 152872, 152873, 152962, 152968, 152969, 152992, 152993,\n",
      "       153097, 153112, 153113, 153121, 153124, 153125, 153217, 153220,\n",
      "       153221, 153232, 153233, 153622, 153625, 153733, 153745, 153748,\n",
      "       153865, 153874, 153880, 153881, 153985, 154000, 154001, 154117,\n",
      "       154129, 154132, 155929, 156049, 156694, 156697, 156709, 156805,\n",
      "       156817, 156820, 156937, 156946, 156952, 156953, 156961, 157057,\n",
      "       157072, 157073, 157189, 157201, 157204, 157969, 164182, 164185,\n",
      "       164197, 164950, 164953, 164965, 165142, 165145, 165157, 165253,\n",
      "       165265, 165268, 165445, 165457, 165460, 166213, 166225, 166228,\n",
      "       168022, 168217, 168274, 168280, 168337, 168532, 168982, 168985,\n",
      "       168997, 169030, 169042, 169048, 169060, 169093, 169105, 169108,\n",
      "       169225, 169234, 169240, 169241, 169249, 169345, 169360, 169361,\n",
      "       169477, 169489, 169492, 169540, 169552, 170068, 170257, 170320],\n",
      "      dtype=int32), array([ 22170,  22182,  22185,  22938,  22953,  26025,  26265,  27033,\n",
      "        38298,  38313,  38502,  38550,  38565,  39258,  39321,  39510,\n",
      "        42393,  42405,  42582,  43350,  43353,  43365,  71334,  71337,\n",
      "        72090,  72282,  72294,  76122,  76134,  76374,  76377,  83622,\n",
      "        83625,  84378,  90777,  91305,  91560,  91785,  92313,  92325,\n",
      "        92442,  92568,  92694,  92697,  99750,  99942, 100005, 100698,\n",
      "       100710, 100758, 100950, 100965, 102810, 103014, 103062, 103077,\n",
      "       103590, 103593, 103818, 103842, 103848, 103974, 104034, 104070,\n",
      "       104097, 104100, 104101, 104538, 104550, 104598, 104601, 104613,\n",
      "       104730, 104778, 104802, 104808, 104850, 104856, 104982, 104997,\n",
      "       105030, 105042, 105060, 106842, 106854, 107094, 107622, 107625,\n",
      "       107685, 107814, 107940, 108102, 108165, 108630, 108633, 108645,\n",
      "       108822, 108870, 108882, 108888, 108900, 108948, 109125, 109137,\n",
      "       109140, 136602, 136617, 136857, 136869, 137562, 137625, 140697,\n",
      "       140709, 140889, 141654, 141657, 148890, 148905, 149145, 149157,\n",
      "       149913, 151962, 151977, 152217, 152229, 152730, 152742, 152745,\n",
      "       152970, 152994, 153000, 153001, 153129, 153225, 153240, 153241,\n",
      "       153249, 153252, 153253, 153750, 153753, 153882, 153993, 154002,\n",
      "       154008, 154009, 154137, 156057, 156825, 156837, 156954, 156969,\n",
      "       157065, 157080, 157081, 157089, 157209, 157317, 157329, 157332,\n",
      "       157977, 158097, 165270, 165273, 165285, 165477, 166230, 166233,\n",
      "       168282, 168345, 169050, 169062, 169110, 169113, 169125, 169242,\n",
      "       169257, 169353, 169362, 169368, 169369, 169377, 169509, 169572,\n",
      "       169605, 169617, 169620, 170070, 170265, 170322, 170328, 170385,\n",
      "       170580], dtype=int32), array([104038, 104101, 104794, 105046, 108886, 152986, 153001, 153241,\n",
      "       153253, 154009, 157081, 169369], dtype=int32)]\n"
     ]
    },
    {
     "ename": "AttributeError",
     "evalue": "'list' object has no attribute 'shape'",
     "output_type": "error",
     "traceback": [
      "\u001b[0;31m---------------------------------------------------------------------------\u001b[0m",
      "\u001b[0;31mAttributeError\u001b[0m                            Traceback (most recent call last)",
      "\u001b[1;32m/Users/mymac/Forex_Robot/simulations/ride_the_wave/foo.ipynb Cell 14\u001b[0m line \u001b[0;36m1\n\u001b[1;32m    <a href='vscode-notebook-cell:/Users/mymac/Forex_Robot/simulations/ride_the_wave/foo.ipynb#X21sZmlsZQ%3D%3D?line=105'>106</a>\u001b[0m \u001b[39mfor\u001b[39;00m k \u001b[39min\u001b[39;00m \u001b[39mrange\u001b[39m(K, \u001b[39m0\u001b[39m, \u001b[39m-\u001b[39m\u001b[39m1\u001b[39m):\n\u001b[1;32m    <a href='vscode-notebook-cell:/Users/mymac/Forex_Robot/simulations/ride_the_wave/foo.ipynb#X21sZmlsZQ%3D%3D?line=106'>107</a>\u001b[0m     \u001b[39mif\u001b[39;00m k \u001b[39m%\u001b[39m \u001b[39m2\u001b[39m \u001b[39m==\u001b[39m \u001b[39m1\u001b[39m:\n\u001b[1;32m    <a href='vscode-notebook-cell:/Users/mymac/Forex_Robot/simulations/ride_the_wave/foo.ipynb#X21sZmlsZQ%3D%3D?line=107'>108</a>\u001b[0m         \u001b[39m# Player X (minimizer) plays at odd stages\u001b[39;00m\n\u001b[0;32m--> <a href='vscode-notebook-cell:/Users/mymac/Forex_Robot/simulations/ride_the_wave/foo.ipynb#X21sZmlsZQ%3D%3D?line=108'>109</a>\u001b[0m         newS, won, invalid \u001b[39m=\u001b[39m ttt_addX(S)\n\u001b[1;32m    <a href='vscode-notebook-cell:/Users/mymac/Forex_Robot/simulations/ride_the_wave/foo.ipynb#X21sZmlsZQ%3D%3D?line=109'>110</a>\u001b[0m         \u001b[39m# Convert states to indices in S{k+1} to get their costs-to-go from V{k+1}\u001b[39;00m\n\u001b[1;32m    <a href='vscode-notebook-cell:/Users/mymac/Forex_Robot/simulations/ride_the_wave/foo.ipynb#X21sZmlsZQ%3D%3D?line=110'>111</a>\u001b[0m         exists, newSndx \u001b[39m=\u001b[39m np\u001b[39m.\u001b[39misin(newS, S)\n",
      "\u001b[1;32m/Users/mymac/Forex_Robot/simulations/ride_the_wave/foo.ipynb Cell 14\u001b[0m line \u001b[0;36m1\n\u001b[1;32m      <a href='vscode-notebook-cell:/Users/mymac/Forex_Robot/simulations/ride_the_wave/foo.ipynb#X21sZmlsZQ%3D%3D?line=0'>1</a>\u001b[0m \u001b[39mdef\u001b[39;00m \u001b[39mttt_addX\u001b[39m(Sk):\n\u001b[1;32m      <a href='vscode-notebook-cell:/Users/mymac/Forex_Robot/simulations/ride_the_wave/foo.ipynb#X21sZmlsZQ%3D%3D?line=1'>2</a>\u001b[0m     XplayMasks \u001b[39m=\u001b[39m np\u001b[39m.\u001b[39marray([\u001b[39m0b010000000000000000\u001b[39m,\n\u001b[1;32m      <a href='vscode-notebook-cell:/Users/mymac/Forex_Robot/simulations/ride_the_wave/foo.ipynb#X21sZmlsZQ%3D%3D?line=2'>3</a>\u001b[0m                            \u001b[39m0b000100000000000000\u001b[39m,\n\u001b[1;32m      <a href='vscode-notebook-cell:/Users/mymac/Forex_Robot/simulations/ride_the_wave/foo.ipynb#X21sZmlsZQ%3D%3D?line=3'>4</a>\u001b[0m                            \u001b[39m0b000001000000000000\u001b[39m,\n\u001b[0;32m   (...)\u001b[0m\n\u001b[1;32m      <a href='vscode-notebook-cell:/Users/mymac/Forex_Robot/simulations/ride_the_wave/foo.ipynb#X21sZmlsZQ%3D%3D?line=8'>9</a>\u001b[0m                            \u001b[39m0b000000000000000100\u001b[39m,\n\u001b[1;32m     <a href='vscode-notebook-cell:/Users/mymac/Forex_Robot/simulations/ride_the_wave/foo.ipynb#X21sZmlsZQ%3D%3D?line=9'>10</a>\u001b[0m                            \u001b[39m0b000000000000000001\u001b[39m], dtype\u001b[39m=\u001b[39mnp\u001b[39m.\u001b[39mint32)\n\u001b[0;32m---> <a href='vscode-notebook-cell:/Users/mymac/Forex_Robot/simulations/ride_the_wave/foo.ipynb#X21sZmlsZQ%3D%3D?line=11'>12</a>\u001b[0m     \u001b[39mprint\u001b[39m(Sk\u001b[39m.\u001b[39;49mshape)\n\u001b[1;32m     <a href='vscode-notebook-cell:/Users/mymac/Forex_Robot/simulations/ride_the_wave/foo.ipynb#X21sZmlsZQ%3D%3D?line=12'>13</a>\u001b[0m     newS \u001b[39m=\u001b[39m np\u001b[39m.\u001b[39mzeros((Sk\u001b[39m.\u001b[39mshape[\u001b[39m0\u001b[39m], \u001b[39mlen\u001b[39m(XplayMasks)), dtype\u001b[39m=\u001b[39mnp\u001b[39m.\u001b[39mint32)\n\u001b[1;32m     <a href='vscode-notebook-cell:/Users/mymac/Forex_Robot/simulations/ride_the_wave/foo.ipynb#X21sZmlsZQ%3D%3D?line=13'>14</a>\u001b[0m     invalid \u001b[39m=\u001b[39m np\u001b[39m.\u001b[39mzeros_like(newS, dtype\u001b[39m=\u001b[39m\u001b[39mbool\u001b[39m)\n",
      "\u001b[0;31mAttributeError\u001b[0m: 'list' object has no attribute 'shape'"
     ]
    }
   ],
   "source": [
    "def ttt_addX(Sk):\n",
    "    XplayMasks = np.array([0b010000000000000000,\n",
    "                           0b000100000000000000,\n",
    "                           0b000001000000000000,\n",
    "                           0b000000010000000000,\n",
    "                           0b000000000100000000,\n",
    "                           0b000000000001000000,\n",
    "                           0b000000000000010000,\n",
    "                           0b000000000000000100,\n",
    "                           0b000000000000000001], dtype=np.int32)\n",
    "\n",
    "    print(Sk.shape)\n",
    "    newS = np.zeros((Sk.shape[0], len(XplayMasks)), dtype=np.int32)\n",
    "    invalid = np.zeros_like(newS, dtype=bool)\n",
    "\n",
    "    for slot in range(len(XplayMasks)):\n",
    "        mask = XplayMasks[slot]\n",
    "        newS[:, slot] = np.bitwise_or(Sk, mask)\n",
    "        invalid[np.bitwise_and(Sk, mask + 2 * mask) != 0, slot] = True\n",
    "\n",
    "    XwinMasks = np.array([0b010101000000000000,\n",
    "                          0b000000010101000000,\n",
    "                          0b000000000000010101,\n",
    "                          0b010000010000010000,\n",
    "                          0b000100000100000100,\n",
    "                          0b000001000001000001,\n",
    "                          0b010000000100000001,\n",
    "                          0b000001000100000100,\n",
    "                          0b000100000001000000], dtype=np.int32)\n",
    "\n",
    "    won = np.zeros_like(newS, dtype=bool)\n",
    "\n",
    "    for i in range(len(XwinMasks)):\n",
    "        won = np.bitwise_or(won, np.bitwise_and(newS, XwinMasks[i]) == XwinMasks[i])\n",
    "\n",
    "    return newS, won, invalid\n",
    "\n",
    "import numpy as np\n",
    "\n",
    "def ttt_addO(Sk):\n",
    "    OplayMasks = np.array([0b100000000000000000,\n",
    "                          0b001000000000000000,\n",
    "                          0b000010000000000000,\n",
    "                          0b000000100000000000,\n",
    "                          0b000000001000000000,\n",
    "                          0b000000000010000000,\n",
    "                          0b000000000000100000,\n",
    "                          0b000000000000001000,\n",
    "                          0b000000000000000010], dtype=np.int32)\n",
    "\n",
    "    newS = np.zeros((Sk.shape[0], len(OplayMasks)), dtype=np.int32)\n",
    "    invalid = np.zeros_like(newS, dtype=bool)\n",
    "\n",
    "    for slot in range(len(OplayMasks)):\n",
    "        mask = OplayMasks[slot]\n",
    "        newS[:, slot] = np.bitwise_or(Sk, mask)\n",
    "        invalid[np.bitwise_and(Sk, mask + mask//2) != 0, slot] = True\n",
    "\n",
    "    OwinMasks = np.array([0b101010000000000000,\n",
    "                          0b000000101010000000,\n",
    "                          0b000000000000101010,\n",
    "                          0b100000100000100000,\n",
    "                          0b001000001000001000,\n",
    "                          0b000010000010000010,\n",
    "                          0b100000001000000010,\n",
    "                          0b000010001000100000], dtype=np.int32)\n",
    "\n",
    "    won = np.zeros_like(newS, dtype=bool)\n",
    "\n",
    "    for i in range(len(OwinMasks)):\n",
    "        won = np.bitwise_or(won, np.bitwise_and(newS, OwinMasks[i]) == OwinMasks[i])\n",
    "\n",
    "    return newS, won, invalid\n",
    "\n",
    "def ttt_states(S0):\n",
    "    K = 9\n",
    "    S = [None] * (K + 1)\n",
    "    S[0] = S0\n",
    "\n",
    "    for k in range(K):\n",
    "        if k % 2 == 0:\n",
    "            # Player X (minimizer) plays at odd stages\n",
    "            newS, won, invalid = ttt_addX(S[k])\n",
    "        else:\n",
    "            # Player O (minimizer) plays at even stages\n",
    "            newS, won, invalid = ttt_addO(S[k])\n",
    "\n",
    "        # Stack all states in a column vector\n",
    "        newS = newS.flatten()\n",
    "        won = won.flatten()\n",
    "        invalid = invalid.flatten()\n",
    "\n",
    "        # Store (unique) list of states for which the game continues\n",
    "        S[k + 1] = np.unique(newS[~invalid & ~won])\n",
    "\n",
    "    return S\n",
    "\n",
    "\n",
    "S = ttt_states(np.array([0b000000000000000000, 0b000000000000000001], dtype=np.int32))\n",
    "K = 9\n",
    "V = [None] * (K + 1)\n",
    "V[K] = np.zeros(len(S), dtype=np.int8)\n",
    "\n",
    "for k in range(K, 0, -1):\n",
    "    if k % 2 == 1:\n",
    "        # Player X (minimizer) plays at odd stages\n",
    "        newS, won, invalid = ttt_addX(S)\n",
    "        # Convert states to indices in S{k+1} to get their costs-to-go from V{k+1}\n",
    "        exists, newSndx = np.isin(newS, S)\n",
    "        # Compute all possible values\n",
    "        newV = np.zeros(newS.shape, dtype=np.int8)\n",
    "        newV[exists] = V[k][newSndx[exists]]\n",
    "        newV[won] = -1\n",
    "        newV[invalid] = np.inf  # Penalize invalid actions for minimizer\n",
    "        V[k - 1] = np.min(newV, axis=1)  # Pick the best for the minimizer\n",
    "\n",
    "    else:\n",
    "        # Player O (maximizer) plays at even stages\n",
    "        newS, won, invalid = ttt_addO(S)\n",
    "        # Convert states to indices in S{k+1} to get their costs-to-go from V{k+1}\n",
    "        exists, newS = np.isin(newS, S)\n",
    "        # Compute all possible values\n",
    "        newV = np.zeros(newS.shape, dtype=np.int8)\n",
    "        newV[exists] = V[k][newS[exists]]\n",
    "        newV[won] = 1\n",
    "        newV[invalid] = -np.inf  # Penalize invalid actions for maximizer\n",
    "        V[k - 1] = np.max(newV, axis=1)  # Pick the best for the maximizer\n",
    "\n",
    "S0_example = np.array([0b000000000000000000, 0b000000000000000001], dtype=np.int32)\n",
    "\n",
    "# Display the resulting values for each stage\n",
    "for k, values in enumerate(V):\n",
    "    print(f\"Values at stage {k}:\")\n",
    "    print(values)\n",
    "    print()"
   ]
  },
  {
   "cell_type": "markdown",
   "metadata": {},
   "source": [
    "### Midterm, problem 2"
   ]
  },
  {
   "cell_type": "code",
   "execution_count": 178,
   "metadata": {},
   "outputs": [
    {
     "name": "stdout",
     "output_type": "stream",
     "text": [
      "[(12.25, 5), (14.75, 3), (9.0, 1), (5.5, 2), (0, 0)]\n",
      "[(13.25, 4), (13.75, 2), (8.0, 0), (4.5, 1), (5, 0)]\n",
      "[(14.25, 3), (12.75, 1), (7.0, 0), (3.5, 0), (10, 0)]\n",
      "[(15.25, 2), (11.75, 0), (7.0, 0), (5.5, 0), (15, 0)]\n",
      "[(16.25, 1), (11.75, 0), (8.5, 0), (11.5, 0), (20, 0)]\n",
      "[(17.25, 0), (12.0, 0), (13.5, 0), (17.5, 0), (25, 0)]\n"
     ]
    }
   ],
   "source": [
    "# Variables\n",
    "C_X, C_D, C_K = 1, 3, 5\n",
    "x_k_vals, k_vals = list(range(6)), list(range(5))\n",
    "capacity = len(x_k_vals) - 1\n",
    "n_rows, n_cols = len(x_k_vals), len(k_vals)\n",
    "res = [[None for _ in range(n_cols)] for _ in range(n_rows)]\n",
    "d_dist = [[0.0, 0.0, 0.0, 0.0],\n",
    "          [0.0, 0.0, 0.5, 0.0],\n",
    "          [0.5, 0.25, 0.5, 0.5],\n",
    "          [0.5, 0.75, 0.0, 0.5]]\n",
    "\n",
    "# Iterate backwards through the columns\n",
    "for j in range(n_cols - 1, -1, -1):\n",
    "    # Set C_U based on what column we're on\n",
    "    C_U = 0 if j == 0 else 2\n",
    "\n",
    "    for i in range(n_rows):\n",
    "        # Base case\n",
    "        if j == n_cols - 1:\n",
    "            v_k, u_k = C_K * i, 0\n",
    "\n",
    "        # All other cases (use dynamic programming)\n",
    "        else:\n",
    "            e_d_k1 = 0\n",
    "\n",
    "            for d in range(len(d_dist)):\n",
    "                e_d_k1 += d * d_dist[d][j]\n",
    "            possible_v_k_vals = []\n",
    "\n",
    "            for u in x_k_vals:\n",
    "                if u + i > capacity:\n",
    "                    continue\n",
    "\n",
    "                g = (C_U * u) + (C_X * i) + (C_D * max(0, e_d_k1 - i - u))\n",
    "                e_v_k1 = 0\n",
    "\n",
    "                for d in range(len(d_dist)):\n",
    "                    x_k1 = max(0, i + u - d)\n",
    "                    e_v_k1 += d_dist[d][j] * res[x_k1][j + 1][0]\n",
    "\n",
    "                possible_v_k_vals.append((g + e_v_k1, u))\n",
    "\n",
    "            v_k, u_k = min(possible_v_k_vals, key=lambda x: x[0])\n",
    "\n",
    "        res[i][j] = (v_k, u_k)\n",
    "\n",
    "for row in res:\n",
    "    print(row)\n"
   ]
  },
  {
   "cell_type": "markdown",
   "metadata": {},
   "source": [
    "### Midterm, problem 3"
   ]
  },
  {
   "cell_type": "code",
   "execution_count": 173,
   "metadata": {},
   "outputs": [
    {
     "name": "stdout",
     "output_type": "stream",
     "text": [
      "Best u values:\n",
      "[[-7.13083451e-01 -2.40345201e+00]\n",
      " [ 2.56398148e+01 -2.88916901e-01]\n",
      " [ 3.44014487e+00  5.05455584e-01]\n",
      " [ 3.31148671e-01  8.19031988e-02]\n",
      " [ 3.04135604e-02  7.91403463e-03]\n",
      " [ 7.68389608e-03 -6.70707094e-04]\n",
      " [ 0.00000000e+00  0.00000000e+00]]\n",
      "\n",
      "States:\n",
      "[[ 2.00000000e+01  2.00000000e+01  2.00000000e+01]\n",
      " [ 3.44800125e+01 -2.11619652e+01  1.35027274e+01]\n",
      " [ 3.71533559e+00 -3.58856972e+00  6.83569517e-01]\n",
      " [ 3.05682684e-01 -3.87504291e-01  1.64556258e-04]\n",
      " [ 2.54646136e-02 -3.60657602e-02 -3.12379832e-03]\n",
      " [ 2.69852117e-03 -1.80440437e-05 -5.44170487e-03]\n",
      " [ 1.44466198e-02  1.73946490e-02 -2.87016091e-02]\n",
      " [ 7.79375270e-02 -9.77950485e-02 -1.17946096e-01]]\n",
      "\n",
      "V values:\n",
      "[32596.822744883924, 18982.727141751533, 408.9141153844364, 4.41657347483996, 0.03849057805025596, 0.0004877428875680954, 5.19526170983789e-06]\n",
      "\n",
      "Cost (V at time 0):\n",
      "32596.822744883924\n"
     ]
    }
   ],
   "source": [
    "# Time steps\n",
    "K = 7\n",
    "\n",
    "# Matrices\n",
    "A = np.array([[1, 2, -1], [-4, 1, 2], [-1, -1, 3]])\n",
    "B = np.array([[1, 2], [5, -1], [-1, 3]])\n",
    "C = np.array([[-1, 4, 2], [2, 0, 1]])\n",
    "R = np.array([[5, 0], [0, 2]])\n",
    "\n",
    "# Initial condition\n",
    "x1 = np.array([20, 20, 20])\n",
    "x_vals = [x1]\n",
    "\n",
    "# P vals\n",
    "p_vals = [None] * (K + 1)\n",
    "p_vals[-1] = np.zeros((3, 3))\n",
    "\n",
    "for k in range(K - 1, -1, -1):\n",
    "    p_k1 = p_vals[k + 1]\n",
    "    p_k = C.T @ C + A.T @ p_k1 @ A - A.T @ p_k1 @ B @ np.linalg.inv(R + B.T @ p_k1 @ B) @ B.T @ p_k1 @ A\n",
    "    p_vals[k] = p_k\n",
    "\n",
    "# Calculate optimal actions and corresponding cost\n",
    "u_vals, v_vals = [], []\n",
    "\n",
    "for k in range(K):\n",
    "    x_k = x_vals[k]\n",
    "    p_k, p_k1 = p_vals[k], p_vals[k + 1]\n",
    "    u_k = -x_k @ A.T @ p_k1 @ B @ np.linalg.inv(R + B.T @ p_k1 @ B)\n",
    "    u_vals.append(u_k)\n",
    "    x_k1 = A @ x_k + B @ u_k\n",
    "    x_vals.append(x_k1)\n",
    "    v_k = x_k.T @ p_k @ x_k\n",
    "    v_vals.append(v_k)\n",
    "\n",
    "print(f'Best u values:\\n{np.array(u_vals)}\\n')\n",
    "print(f'States:\\n{np.array(x_vals)}\\n')\n",
    "print(f'V values:\\n{v_vals}\\n')\n",
    "print(f'Cost (V at time 0):\\n{v_vals[0]}')"
   ]
  },
  {
   "cell_type": "code",
   "execution_count": 65,
   "metadata": {},
   "outputs": [
    {
     "data": {
      "text/plain": [
       "array([[ 1, -4, -1],\n",
       "       [ 0,  1, -1],\n",
       "       [ 0,  2,  3]])"
      ]
     },
     "execution_count": 65,
     "metadata": {},
     "output_type": "execute_result"
    }
   ],
   "source": [
    "np.array([[1, 0, 0], [-4, 1, 2], [-1, -1, 3]]).T"
   ]
  },
  {
   "cell_type": "code",
   "execution_count": 83,
   "metadata": {},
   "outputs": [],
   "source": [
    "A = np.array([[1, 0, 0], [-4, 1, 2], [-1, -1, 3]])\n",
    "B = np.array([[0, 0], [5, -1], [-1, 3]])\n",
    "C = np.array([[-1, 0, 0], [2, 0, 0]])"
   ]
  },
  {
   "cell_type": "code",
   "execution_count": 118,
   "metadata": {},
   "outputs": [],
   "source": [
    "p_k1 = np.array([[5, 0, 0],\n",
    "                [0, 0, 0],\n",
    "                [0, 0, 0]])"
   ]
  },
  {
   "cell_type": "code",
   "execution_count": 111,
   "metadata": {},
   "outputs": [
    {
     "data": {
      "text/plain": [
       "array([[0, 0],\n",
       "       [0, 0],\n",
       "       [0, 0]])"
      ]
     },
     "execution_count": 111,
     "metadata": {},
     "output_type": "execute_result"
    }
   ],
   "source": [
    "A.T @ p_k1 @ B"
   ]
  },
  {
   "cell_type": "code",
   "execution_count": 112,
   "metadata": {},
   "outputs": [
    {
     "data": {
      "text/plain": [
       "array([[0, 0],\n",
       "       [0, 0]])"
      ]
     },
     "execution_count": 112,
     "metadata": {},
     "output_type": "execute_result"
    }
   ],
   "source": [
    "B.T @ p_k1 @ B"
   ]
  },
  {
   "cell_type": "code",
   "execution_count": 113,
   "metadata": {},
   "outputs": [
    {
     "data": {
      "text/plain": [
       "array([[0, 0],\n",
       "       [0, 0],\n",
       "       [0, 0]])"
      ]
     },
     "execution_count": 113,
     "metadata": {},
     "output_type": "execute_result"
    }
   ],
   "source": [
    "p_k1 @ B"
   ]
  },
  {
   "cell_type": "code",
   "execution_count": 114,
   "metadata": {},
   "outputs": [
    {
     "data": {
      "text/plain": [
       "array([[0, 0],\n",
       "       [0, 0],\n",
       "       [0, 0]])"
      ]
     },
     "execution_count": 114,
     "metadata": {},
     "output_type": "execute_result"
    }
   ],
   "source": [
    "(A.T @ p_k1 @ B) @ np.array([[1, 2], [3, 4]])"
   ]
  },
  {
   "cell_type": "code",
   "execution_count": 115,
   "metadata": {},
   "outputs": [
    {
     "data": {
      "text/plain": [
       "array([[5, 0, 0],\n",
       "       [0, 0, 0],\n",
       "       [0, 0, 0]])"
      ]
     },
     "execution_count": 115,
     "metadata": {},
     "output_type": "execute_result"
    }
   ],
   "source": [
    "# p_k\n",
    "C.T @ C + A.T @ p_k1 @ A"
   ]
  },
  {
   "cell_type": "code",
   "execution_count": 119,
   "metadata": {},
   "outputs": [
    {
     "data": {
      "text/plain": [
       "array([[5, 0, 0],\n",
       "       [0, 0, 0],\n",
       "       [0, 0, 0]])"
      ]
     },
     "execution_count": 119,
     "metadata": {},
     "output_type": "execute_result"
    }
   ],
   "source": [
    "A.T @ p_k1 @ A"
   ]
  },
  {
   "cell_type": "code",
   "execution_count": 106,
   "metadata": {},
   "outputs": [
    {
     "data": {
      "text/plain": [
       "array([[5, 0, 0],\n",
       "       [0, 0, 0],\n",
       "       [0, 0, 0]])"
      ]
     },
     "execution_count": 106,
     "metadata": {},
     "output_type": "execute_result"
    }
   ],
   "source": [
    "C.T @ C"
   ]
  },
  {
   "cell_type": "code",
   "execution_count": 86,
   "metadata": {},
   "outputs": [
    {
     "data": {
      "text/plain": [
       "array([[0, 0, 0],\n",
       "       [0, 0, 0],\n",
       "       [0, 0, 0]])"
      ]
     },
     "execution_count": 86,
     "metadata": {},
     "output_type": "execute_result"
    }
   ],
   "source": [
    "A.T @ p_k1 @ A "
   ]
  },
  {
   "cell_type": "code",
   "execution_count": 120,
   "metadata": {},
   "outputs": [
    {
     "data": {
      "text/plain": [
       "array([[0, 0],\n",
       "       [0, 0],\n",
       "       [0, 0]])"
      ]
     },
     "execution_count": 120,
     "metadata": {},
     "output_type": "execute_result"
    }
   ],
   "source": [
    "A.T @ p_k1 @ B"
   ]
  },
  {
   "cell_type": "markdown",
   "metadata": {},
   "source": [
    "### Midterm, problem 4"
   ]
  },
  {
   "cell_type": "code",
   "execution_count": 172,
   "metadata": {},
   "outputs": [
    {
     "name": "stdout",
     "output_type": "stream",
     "text": [
      "Best u values:\n",
      "[[ 0.68689651]\n",
      " [ 5.43365473]\n",
      " [ 3.13055646]\n",
      " [-1.09880349]\n",
      " [ 0.        ]]\n",
      "\n",
      "Best d values:\n",
      "[[ 1.10808878]\n",
      " [-8.08446061]\n",
      " [-6.30609175]\n",
      " [-2.12745671]\n",
      " [ 0.        ]]\n",
      "\n",
      "States:\n",
      "[[  1.           2.           1.        ]\n",
      " [  6.90307407   2.32639377  -4.01116285]\n",
      " [  4.83175798   1.94450602  -2.44322931]\n",
      " [  1.6823723   -0.31011048   1.68176685]\n",
      " [ -5.97333243  -7.04262671  11.15421238]\n",
      " [-31.21279823  39.15912779  46.47859628]]\n",
      "\n",
      "V values:\n",
      "[229.84787597129053, 140.60390990227685, 48.913642934075895, 22.983166121936083, 0.6403575911624784]\n",
      "\n",
      "Cost (V at time 0):\n",
      "229.84787597129053\n"
     ]
    }
   ],
   "source": [
    "# Time steps and mu\n",
    "K, mu = 5, 1\n",
    "\n",
    "# Matrices\n",
    "A = np.array([[1, 2, -1], [-4, 1, 2], [-1, -1, 3]])\n",
    "B = np.array([[1, 5, -1]]).T\n",
    "C = np.array([[-1, 4, 2], [2, 0, 1]])\n",
    "E = np.array([[2, -1, -3]]).T\n",
    "\n",
    "# Initial condition\n",
    "x1 = np.array([1, 2, 1])\n",
    "x_vals = [x1]\n",
    "\n",
    "# P vals\n",
    "p_vals = [None] * (K + 1)\n",
    "p_vals[-1] = np.zeros((3, 3))\n",
    "\n",
    "def _matrix_of_matrices(p_k1):\n",
    "    quad1 = B.T @ p_k1 @ B\n",
    "    quad1 = np.eye(quad1.shape[0]) + quad1\n",
    "    quad2 = B.T @ p_k1 @ E\n",
    "    quad3 = E.T @ p_k1 @ B\n",
    "    quad4 = E.T @ p_k1 @ E\n",
    "    quad4 = -(mu ** 2) * np.eye(quad4.shape[0]) + quad4\n",
    "    top_row = np.concatenate((quad1, quad2), axis=1)\n",
    "    bottom_row = np.concatenate((quad3, quad4), axis=1)\n",
    "\n",
    "    return np.concatenate((top_row, bottom_row), axis=0)\n",
    "\n",
    "def _vector_of_matrices(p_k1):\n",
    "    top_row = B.T @ p_k1 @ A\n",
    "    bottom_row = E.T @ p_k1 @ A\n",
    "\n",
    "    return np.concatenate((top_row, bottom_row), axis=0)\n",
    "\n",
    "for k in range(K - 1, -1, -1):\n",
    "    p_k1 = p_vals[k + 1]\n",
    "\n",
    "    # Breaking this into components since p_k is now more complex than it was in the single-player case\n",
    "    first_comp = C.T @ C + A.T @ p_k1 @ A\n",
    "\n",
    "    second_comp_col1 = A.T @ p_k1 @ B\n",
    "    second_comp_col2 = A.T @ p_k1 @ E\n",
    "    second_comp = np.concatenate((second_comp_col1, second_comp_col2), axis=1)\n",
    "\n",
    "    third_comp = _matrix_of_matrices(p_k1)\n",
    "\n",
    "    fourth_comp = _vector_of_matrices(p_k1)\n",
    "\n",
    "    # Use the components to calculate p_k\n",
    "    p_k = first_comp - second_comp @ np.linalg.inv(third_comp) @ fourth_comp\n",
    "    p_vals[k] = p_k\n",
    "\n",
    "# Calculate optimal actions and corresponding cost\n",
    "u_vals, d_vals, v_vals = [], [], []\n",
    "\n",
    "for k in range(K):\n",
    "    x_k = x_vals[k]\n",
    "    p_k, p_k1 = p_vals[k], p_vals[k + 1]\n",
    "    opt_vals_vector = -np.linalg.inv(_matrix_of_matrices(p_k1)) @ _vector_of_matrices(p_k1) @ x_k\n",
    "    u_k, d_k = opt_vals_vector\n",
    "    u_k, d_k = np.array([u_k]), np.array([d_k])\n",
    "    u_vals.append(u_k)\n",
    "    d_vals.append(d_k)\n",
    "    x_k1 = A @ x_k + B @ u_k + E @ d_k\n",
    "    x_vals.append(x_k1)\n",
    "    v_k = x_k.T @ p_k @ x_k\n",
    "    v_vals.append(v_k)\n",
    "\n",
    "print(f'Best u values:\\n{np.array(u_vals)}\\n')\n",
    "print(f'Best d values:\\n{np.array(d_vals)}\\n')\n",
    "print(f'States:\\n{np.array(x_vals)}\\n')\n",
    "print(f'V values:\\n{v_vals}\\n')\n",
    "print(f'Cost (V at time 0):\\n{v_vals[0]}')"
   ]
  },
  {
   "cell_type": "code",
   "execution_count": null,
   "metadata": {},
   "outputs": [],
   "source": []
  }
 ],
 "metadata": {
  "kernelspec": {
   "display_name": "601",
   "language": "python",
   "name": "python3"
  },
  "language_info": {
   "codemirror_mode": {
    "name": "ipython",
    "version": 3
   },
   "file_extension": ".py",
   "mimetype": "text/x-python",
   "name": "python",
   "nbconvert_exporter": "python",
   "pygments_lexer": "ipython3",
   "version": "3.11.6"
  }
 },
 "nbformat": 4,
 "nbformat_minor": 2
}

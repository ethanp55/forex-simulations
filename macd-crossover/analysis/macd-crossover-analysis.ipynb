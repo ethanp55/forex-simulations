{
 "cells": [
  {
   "cell_type": "code",
   "execution_count": 1,
   "source": [
    "import talib\n",
    "import numpy as np\n",
    "import pandas as pd\n",
    "import plotly.graph_objects as go"
   ],
   "outputs": [],
   "metadata": {}
  },
  {
   "cell_type": "code",
   "execution_count": 2,
   "source": [
    "file_path = '/Users/mymac/Google_Drive/Forex_Robot/'"
   ],
   "outputs": [],
   "metadata": {}
  },
  {
   "cell_type": "code",
   "execution_count": 3,
   "source": [
    "# ----------------------------------------------------------------------------------------------------\n",
    "# Get the data\n",
    "# ----------------------------------------------------------------------------------------------------\n",
    "df = pd.read_csv(file_path + 'Oanda_Gbp_Usd_M15_2017-2018.csv')\n",
    "df.Date = pd.to_datetime(df.Date)\n",
    "df.reset_index(drop=True, inplace=True)"
   ],
   "outputs": [],
   "metadata": {}
  },
  {
   "cell_type": "code",
   "execution_count": 4,
   "source": [
    "def add_fractal(df, i, look_back=3):\n",
    "  if i >= look_back and i < df.shape[0] - look_back:\n",
    "    lows = []\n",
    "    highs = []\n",
    "\n",
    "    for j in range(1, look_back + 1):\n",
    "      prev_bid_low, prev_bid_high = df.loc[df.index[i - j], ['Mid_Low', 'Mid_High']]\n",
    "      future_bid_low, future_bid_high = df.loc[df.index[i + j], ['Mid_Low', 'Mid_High']]\n",
    "\n",
    "      lows.append(float(prev_bid_low))\n",
    "      lows.append(float(future_bid_low))\n",
    "      highs.append(float(prev_bid_high))\n",
    "      highs.append(float(future_bid_high))\n",
    "\n",
    "    bid_low, bid_high = df.loc[df.index[i], ['Mid_Low', 'Mid_High']]\n",
    "\n",
    "    if float(bid_low) < min(lows):\n",
    "      return 1\n",
    "\n",
    "    elif float(bid_high) > max(highs):\n",
    "      return 2\n",
    "\n",
    "    else:\n",
    "      return 0\n",
    "\n",
    "  else:\n",
    "    return np.nan\n",
    "\n",
    "\n",
    "def add_trade(df, i):\n",
    "    if i < 4:\n",
    "        return np.nan, np.nan, np.nan\n",
    "\n",
    "    ema200 = df.loc[df.index[i - 1], 'ema200']\n",
    "    curr_ml = df.loc[df.index[i - 1], 'Mid_Low']\n",
    "    curr_mh = df.loc[df.index[i - 1], 'Mid_High']\n",
    "    macd2, macdsignal2 = df.loc[df.index[i - 2], ['macd', 'macdsignal']]\n",
    "    macd1, macdsignal1 = df.loc[df.index[i - 1], ['macd', 'macdsignal']]\n",
    "    curr_ao = df.loc[df.index[i], 'Ask_Open']\n",
    "    curr_bo = df.loc[df.index[i], 'Bid_Open']\n",
    "\n",
    "    if macd2 < macdsignal2 and macd1 > macdsignal1 and curr_ml > ema200:\n",
    "        pullback = None\n",
    "        u = i - 4\n",
    "\n",
    "        while u >= 0:\n",
    "            if df.loc[df.index[u], 'fractal'] == 1:\n",
    "                curr_pullback = float(df.loc[df.index[u], 'Bid_Low']) - 0.0010\n",
    "                curr_fractal_distance = curr_ao - curr_pullback\n",
    "\n",
    "                if curr_fractal_distance <= 0.0100:\n",
    "                    pullback = curr_pullback\n",
    "                    break\n",
    "\n",
    "            u -= 1\n",
    "\n",
    "        if pullback is not None:\n",
    "          stop_loss = round(pullback, 5)\n",
    "\n",
    "          if stop_loss < curr_ao:\n",
    "            curr_pips_to_risk = curr_ao - stop_loss\n",
    "            stop_gain = round(curr_ao + (curr_pips_to_risk * 1.5), 5)\n",
    "\n",
    "            return 1, stop_loss, stop_gain\n",
    "\n",
    "        return 0, 0, 0\n",
    "\n",
    "    elif macd2 > macdsignal2 and macd1 < macdsignal1 and curr_mh < ema200:\n",
    "        pullback = None\n",
    "        u = i - 4\n",
    "\n",
    "        while u >= 0:\n",
    "            if df.loc[df.index[u], 'fractal'] == 2:\n",
    "                curr_pullback = float(df.loc[df.index[u], 'Ask_High']) + 0.0010\n",
    "                curr_fractal_distance = curr_pullback - curr_bo\n",
    "\n",
    "                if curr_fractal_distance <= 0.0100:\n",
    "                    pullback = curr_pullback\n",
    "                    break\n",
    "\n",
    "            u -= 1\n",
    "\n",
    "        if pullback is not None:\n",
    "          stop_loss = round(pullback, 5)\n",
    "\n",
    "          if stop_loss > curr_bo:\n",
    "            curr_pips_to_risk = stop_loss - curr_bo\n",
    "            stop_gain = round(curr_bo - (curr_pips_to_risk * 1.5), 5)\n",
    "\n",
    "            return 2, stop_loss, stop_gain\n",
    "\n",
    "        return 0, 0, 0\n",
    "\n",
    "    else:\n",
    "        return 0, 0, 0"
   ],
   "outputs": [],
   "metadata": {}
  },
  {
   "cell_type": "code",
   "execution_count": 5,
   "source": [
    "df['macd'], df['macdsignal'], df['macdhist'] = talib.MACD(df['Mid_Close'])\n",
    "df['ema200'] = talib.EMA(df['Mid_Close'], timeperiod=200)\n",
    "df['atr'] = talib.ATR(df['Mid_High'], df['Mid_Low'], df['Mid_Close'], timeperiod=500)\n",
    "df['fractal'] = [add_fractal(df, i) for i in range(df.shape[0])]\n",
    "df.dropna(inplace=True)\n",
    "df.reset_index(drop=True, inplace=True)\n",
    "trade_infos = [add_trade(df, i) for i in range(df.shape[0])]\n",
    "trades = []\n",
    "stop_losses = []\n",
    "stop_gains = []\n",
    "\n",
    "for trade, stop_loss, stop_gain in trade_infos:\n",
    "    trades.append(trade)\n",
    "    stop_losses.append(stop_loss)\n",
    "    stop_gains.append(stop_gain)\n",
    "\n",
    "df['trade'], df['stop_loss'], df['stop_gain'] = trades, stop_losses, stop_gains\n",
    "df.dropna(inplace=True)\n",
    "df.reset_index(drop=True, inplace=True)\n",
    "\n",
    "print(df['fractal'].value_counts())\n",
    "print(df['trade'].value_counts())"
   ],
   "outputs": [
    {
     "output_type": "stream",
     "name": "stdout",
     "text": [
      "0.0    19615\n",
      "1.0     2356\n",
      "2.0     2266\n",
      "Name: fractal, dtype: int64\n"
     ]
    }
   ],
   "metadata": {}
  },
  {
   "cell_type": "code",
   "execution_count": 7,
   "source": [
    "def plot_candles(df_plot):\n",
    "    fig = go.Figure()\n",
    "\n",
    "    fig.add_trace(go.Candlestick(\n",
    "        x=df_plot.Date, open=df_plot.Mid_Open, high=df_plot.Mid_High, low=df_plot.Mid_Low, close=df_plot.Mid_Close,\n",
    "        line=dict(width=1), opacity=1,\n",
    "        increasing_fillcolor='#24A06B',\n",
    "        decreasing_fillcolor=\"#CC2E3C\",\n",
    "        increasing_line_color='#2EC886',\n",
    "        decreasing_line_color='#FF3A4C'\n",
    "    ))\n",
    "\n",
    "    # df_fractals = df_plot[df_plot.fractal != 0]\n",
    "    # df_fractal_prices = [df_fractals.loc[df_fractals.index[i], 'Mid_Low'] if df_fractals.loc[df_fractals.index[i], 'fractal'] == 1 else df_fractals.loc[df_fractals.index[i], 'Mid_High'] for i in range(len(df_fractals))]\n",
    "\n",
    "    # fig.add_trace(go.Scatter(\n",
    "    #     x=df_fractals.Date,\n",
    "    #     y=df_fractal_prices,\n",
    "    #     marker=dict(color=\"crimson\", size=10),\n",
    "    #     name='Fractal',\n",
    "    #     mode='markers'\n",
    "    #     ))\n",
    "\n",
    "    df_sl_sg = df_plot[df_plot.trade != 0]\n",
    "\n",
    "    fig.add_trace(go.Scatter(\n",
    "        x=df_sl_sg.Date,\n",
    "        y=df_sl_sg.stop_loss,\n",
    "        marker=dict(color=\"crimson\", size=10),\n",
    "        name='Stop Loss',\n",
    "        mode='markers'\n",
    "        ))\n",
    "\n",
    "    fig.add_trace(go.Scatter(\n",
    "        x=df_sl_sg.Date,\n",
    "        y=df_sl_sg.stop_gain,\n",
    "        marker=dict(color=\"green\", size=10),\n",
    "        name='Stop Gain',\n",
    "        mode='markers'\n",
    "        ))\n",
    "\n",
    "    df_buys = df_plot[df_plot.trade == 1]\n",
    "    df_sells = df_plot[df_plot.trade == 2]\n",
    "\n",
    "    fig.add_trace(go.Candlestick(\n",
    "        x=df_buys.Date, open=df_buys.Mid_Open, high=df_buys.Mid_High, low=df_buys.Mid_Low, close=df_buys.Mid_Close,\n",
    "        line=dict(width=1), opacity=1,\n",
    "        increasing_fillcolor='blue',\n",
    "        decreasing_fillcolor='blue',\n",
    "        increasing_line_color='blue',\n",
    "        decreasing_line_color='blue',\n",
    "        name='Buy'\n",
    "    ))\n",
    "\n",
    "    fig.add_trace(go.Candlestick(\n",
    "        x=df_sells.Date, open=df_sells.Mid_Open, high=df_sells.Mid_High, low=df_sells.Mid_Low, close=df_sells.Mid_Close,\n",
    "        line=dict(width=1), opacity=1,\n",
    "        increasing_fillcolor='orange',\n",
    "        decreasing_fillcolor='orange',\n",
    "        increasing_line_color='orange',\n",
    "        decreasing_line_color='orange',\n",
    "        name='Sell'\n",
    "    ))\n",
    "\n",
    "    fig.add_trace(go.Scatter(\n",
    "        x=df_plot.Date,\n",
    "        y=df_plot.ema200,\n",
    "        line=dict(width=2, color='purple'),\n",
    "        line_shape='spline',\n",
    "        name='EMA',\n",
    "        mode='lines'\n",
    "    ))\n",
    "\n",
    "    fig.update_layout(width=1400,height=600,\n",
    "        margin=dict(l=10,r=10,b=10,t=10),\n",
    "        font=dict(size=10,color=\"#e1e1e1\"),\n",
    "        paper_bgcolor=\"#1e1e1e\",\n",
    "        plot_bgcolor=\"#1e1e1e\")\n",
    "\n",
    "    fig.update_xaxes(\n",
    "        gridcolor=\"#1f292f\",\n",
    "        showgrid=True,fixedrange=True,rangeslider=dict(visible=False),\n",
    "        rangebreaks=[\n",
    "            dict(bounds=[\"sat\", \"mon\"])\n",
    "        ]\n",
    "    )\n",
    "\n",
    "    fig.update_yaxes(\n",
    "        gridcolor=\"#1f292f\",\n",
    "        showgrid=True\n",
    "    )\n",
    "\n",
    "    macd_fig = go.Figure()\n",
    "\n",
    "    macd_fig.add_trace(go.Scatter(\n",
    "        x=df_plot.Date,\n",
    "        y=df_plot.macdsignal,\n",
    "        line=dict(width=2, color='#03adfc'),\n",
    "        line_shape='spline',\n",
    "        name='SIGNAL',\n",
    "        mode='lines'\n",
    "    ))\n",
    "\n",
    "    macd_fig.add_trace(go.Scatter(\n",
    "        x=df_plot.Date,\n",
    "        y=df_plot.macd,\n",
    "        line=dict(width=2, color='#fc4a03'),\n",
    "        line_shape='spline',\n",
    "        name='MACD',\n",
    "        mode='lines'\n",
    "    ))\n",
    "\n",
    "    macd_fig.update_layout(width=1400,height=200,\n",
    "        margin=dict(l=10,r=10,b=10,t=10),\n",
    "        font=dict(size=10,color=\"#e1e1e1\"),\n",
    "        paper_bgcolor=\"#1e1e1e\",\n",
    "        plot_bgcolor=\"#1e1e1e\")\n",
    "\n",
    "    macd_fig.update_xaxes(\n",
    "        gridcolor=\"#1f292f\",\n",
    "        showgrid=True,fixedrange=True,rangeslider=dict(visible=False),\n",
    "        rangebreaks=[\n",
    "            dict(bounds=[\"sat\", \"mon\"])\n",
    "        ]\n",
    "    )\n",
    "\n",
    "    macd_fig.update_yaxes(\n",
    "        gridcolor=\"#1f292f\",\n",
    "        showgrid=True\n",
    "    )\n",
    "\n",
    "    fig.show()\n",
    "    macd_fig.show()"
   ],
   "outputs": [],
   "metadata": {}
  },
  {
   "cell_type": "code",
   "execution_count": 10,
   "source": [
    "plot_candles(df.iloc[50:150, :])"
   ],
   "outputs": [
    {
     "output_type": "display_data",
     "data": {
      "application/vnd.plotly.v1+json": {
       "config": {
        "plotlyServerURL": "https://plot.ly"
       },
       "data": [
        {
         "close": [
          1.215,
          1.21588,
          1.21554,
          1.21528,
          1.21635,
          1.21632,
          1.21598,
          1.21579,
          1.21607,
          1.21652,
          1.21628,
          1.21662,
          1.21671,
          1.21686,
          1.21692,
          1.21694,
          1.21744,
          1.21766,
          1.21732,
          1.21724,
          1.21738,
          1.21724,
          1.21738,
          1.21732,
          1.2172,
          1.21746,
          1.21922,
          1.21848,
          1.21876,
          1.21808,
          1.21772,
          1.21838,
          1.2182,
          1.21789,
          1.21782,
          1.21721,
          1.21697,
          1.21654,
          1.21682,
          1.21759,
          1.21699,
          1.21686,
          1.21652,
          1.2163,
          1.21607,
          1.216,
          1.2156,
          1.21606,
          1.21582,
          1.21579,
          1.21605,
          1.21596,
          1.21597,
          1.21622,
          1.21557,
          1.21636,
          1.21696,
          1.2162,
          1.21554,
          1.21618,
          1.21604,
          1.21546,
          1.21488,
          1.21538,
          1.21154,
          1.21228,
          1.21214,
          1.21198,
          1.2124,
          1.21309,
          1.21452,
          1.21406,
          1.21326,
          1.21277,
          1.21154,
          1.2116,
          1.21182,
          1.21164,
          1.21112,
          1.21082,
          1.21216,
          1.21281,
          1.21269,
          1.21192,
          1.21217,
          1.21044,
          1.21058,
          1.2051,
          1.20597,
          1.20713,
          1.2069,
          1.21163,
          1.2139,
          1.2115,
          1.21298,
          1.21417,
          1.21562,
          1.21589,
          1.22324,
          1.22414
         ],
         "decreasing": {
          "fillcolor": "#CC2E3C",
          "line": {
           "color": "#FF3A4C"
          }
         },
         "high": [
          1.21592,
          1.21638,
          1.21612,
          1.21578,
          1.2164,
          1.2168,
          1.2166,
          1.21608,
          1.21607,
          1.21652,
          1.21652,
          1.21662,
          1.21676,
          1.2172,
          1.21704,
          1.21706,
          1.21764,
          1.21812,
          1.2177,
          1.21738,
          1.21742,
          1.21746,
          1.21746,
          1.21744,
          1.21747,
          1.21746,
          1.21986,
          1.21916,
          1.21884,
          1.21892,
          1.21814,
          1.21877,
          1.21838,
          1.21872,
          1.21834,
          1.21793,
          1.21728,
          1.21708,
          1.21692,
          1.2176,
          1.21762,
          1.21732,
          1.21708,
          1.21664,
          1.21633,
          1.21622,
          1.21617,
          1.2162,
          1.21659,
          1.21606,
          1.21608,
          1.21671,
          1.2161,
          1.21634,
          1.21626,
          1.21643,
          1.21713,
          1.21742,
          1.21625,
          1.21658,
          1.21709,
          1.2162,
          1.21552,
          1.21552,
          1.21661,
          1.21415,
          1.2126,
          1.21249,
          1.21296,
          1.21344,
          1.2147,
          1.21487,
          1.21411,
          1.21397,
          1.21286,
          1.2122,
          1.21276,
          1.213,
          1.2118,
          1.21194,
          1.21234,
          1.21294,
          1.21312,
          1.21272,
          1.21255,
          1.21243,
          1.21153,
          1.21066,
          1.20658,
          1.20771,
          1.20716,
          1.21224,
          1.21496,
          1.21548,
          1.21324,
          1.21632,
          1.2169,
          1.21741,
          1.22731,
          1.22579
         ],
         "increasing": {
          "fillcolor": "#24A06B",
          "line": {
           "color": "#2EC886"
          }
         },
         "line": {
          "width": 1
         },
         "low": [
          1.21487,
          1.21495,
          1.21554,
          1.21528,
          1.21518,
          1.21608,
          1.21581,
          1.21558,
          1.2157,
          1.21574,
          1.21594,
          1.21623,
          1.21614,
          1.21658,
          1.2164,
          1.21658,
          1.21694,
          1.21734,
          1.21731,
          1.21724,
          1.21713,
          1.21698,
          1.21706,
          1.21714,
          1.21718,
          1.21714,
          1.21744,
          1.21837,
          1.21822,
          1.21805,
          1.21733,
          1.21769,
          1.21774,
          1.21789,
          1.21764,
          1.21698,
          1.21652,
          1.21654,
          1.21647,
          1.2167,
          1.21688,
          1.21685,
          1.21612,
          1.2163,
          1.2159,
          1.21598,
          1.21536,
          1.21536,
          1.21582,
          1.21575,
          1.21555,
          1.2159,
          1.2154,
          1.21564,
          1.21489,
          1.21545,
          1.21622,
          1.21609,
          1.21536,
          1.2155,
          1.21569,
          1.21536,
          1.21451,
          1.21362,
          1.21078,
          1.21122,
          1.20958,
          1.21152,
          1.21182,
          1.21241,
          1.2131,
          1.21394,
          1.21283,
          1.21244,
          1.21061,
          1.21122,
          1.21144,
          1.21154,
          1.20964,
          1.21078,
          1.21058,
          1.21184,
          1.2122,
          1.21122,
          1.21132,
          1.20994,
          1.20956,
          1.20384,
          1.20486,
          1.20541,
          1.2061,
          1.20596,
          1.2113,
          1.2113,
          1.20936,
          1.21232,
          1.21386,
          1.21558,
          1.21532,
          1.22245
         ],
         "opacity": 1,
         "open": [
          1.21592,
          1.21495,
          1.21584,
          1.21548,
          1.21529,
          1.2163,
          1.21638,
          1.21602,
          1.21573,
          1.21601,
          1.21651,
          1.21633,
          1.21656,
          1.21677,
          1.2169,
          1.21686,
          1.21694,
          1.2174,
          1.21748,
          1.21724,
          1.21724,
          1.21729,
          1.21724,
          1.21738,
          1.21729,
          1.21721,
          1.21744,
          1.21916,
          1.21842,
          1.21876,
          1.21808,
          1.21771,
          1.21834,
          1.21814,
          1.2179,
          1.21782,
          1.21727,
          1.21691,
          1.21648,
          1.21688,
          1.21758,
          1.21699,
          1.21688,
          1.21658,
          1.21631,
          1.21608,
          1.21602,
          1.21554,
          1.21606,
          1.21588,
          1.21582,
          1.2161,
          1.21596,
          1.21596,
          1.21622,
          1.21563,
          1.21639,
          1.21692,
          1.21625,
          1.21558,
          1.21624,
          1.21608,
          1.2155,
          1.21484,
          1.21548,
          1.2116,
          1.21222,
          1.21218,
          1.21193,
          1.21241,
          1.2131,
          1.21446,
          1.21406,
          1.21325,
          1.21277,
          1.21159,
          1.2116,
          1.21188,
          1.21158,
          1.21109,
          1.21076,
          1.21212,
          1.2128,
          1.2127,
          1.21187,
          1.21221,
          1.2105,
          1.21053,
          1.20512,
          1.20598,
          1.20708,
          1.20694,
          1.21168,
          1.21396,
          1.2115,
          1.21298,
          1.21416,
          1.21568,
          1.2159,
          1.22331
         ],
         "type": "candlestick",
         "x": [
          "2017-01-10T17:30:00",
          "2017-01-10T17:45:00",
          "2017-01-10T18:00:00",
          "2017-01-10T18:15:00",
          "2017-01-10T18:30:00",
          "2017-01-10T18:45:00",
          "2017-01-10T19:00:00",
          "2017-01-10T19:15:00",
          "2017-01-10T19:30:00",
          "2017-01-10T19:45:00",
          "2017-01-10T20:00:00",
          "2017-01-10T20:15:00",
          "2017-01-10T20:30:00",
          "2017-01-10T20:45:00",
          "2017-01-10T21:00:00",
          "2017-01-10T21:15:00",
          "2017-01-10T21:30:00",
          "2017-01-10T21:45:00",
          "2017-01-10T22:00:00",
          "2017-01-10T22:15:00",
          "2017-01-10T22:30:00",
          "2017-01-10T22:45:00",
          "2017-01-10T23:00:00",
          "2017-01-10T23:15:00",
          "2017-01-10T23:30:00",
          "2017-01-10T23:45:00",
          "2017-01-11T00:00:00",
          "2017-01-11T00:15:00",
          "2017-01-11T00:30:00",
          "2017-01-11T00:45:00",
          "2017-01-11T01:00:00",
          "2017-01-11T01:15:00",
          "2017-01-11T01:30:00",
          "2017-01-11T01:45:00",
          "2017-01-11T02:00:00",
          "2017-01-11T02:15:00",
          "2017-01-11T02:30:00",
          "2017-01-11T02:45:00",
          "2017-01-11T03:00:00",
          "2017-01-11T03:15:00",
          "2017-01-11T03:30:00",
          "2017-01-11T03:45:00",
          "2017-01-11T04:00:00",
          "2017-01-11T04:15:00",
          "2017-01-11T04:30:00",
          "2017-01-11T04:45:00",
          "2017-01-11T05:00:00",
          "2017-01-11T05:15:00",
          "2017-01-11T05:30:00",
          "2017-01-11T05:45:00",
          "2017-01-11T06:00:00",
          "2017-01-11T06:15:00",
          "2017-01-11T06:30:00",
          "2017-01-11T06:45:00",
          "2017-01-11T07:00:00",
          "2017-01-11T07:15:00",
          "2017-01-11T07:30:00",
          "2017-01-11T07:45:00",
          "2017-01-11T08:00:00",
          "2017-01-11T08:15:00",
          "2017-01-11T08:30:00",
          "2017-01-11T08:45:00",
          "2017-01-11T09:00:00",
          "2017-01-11T09:15:00",
          "2017-01-11T09:30:00",
          "2017-01-11T09:45:00",
          "2017-01-11T10:00:00",
          "2017-01-11T10:15:00",
          "2017-01-11T10:30:00",
          "2017-01-11T10:45:00",
          "2017-01-11T11:00:00",
          "2017-01-11T11:15:00",
          "2017-01-11T11:30:00",
          "2017-01-11T11:45:00",
          "2017-01-11T12:00:00",
          "2017-01-11T12:15:00",
          "2017-01-11T12:30:00",
          "2017-01-11T12:45:00",
          "2017-01-11T13:00:00",
          "2017-01-11T13:15:00",
          "2017-01-11T13:30:00",
          "2017-01-11T13:45:00",
          "2017-01-11T14:00:00",
          "2017-01-11T14:15:00",
          "2017-01-11T14:30:00",
          "2017-01-11T14:45:00",
          "2017-01-11T15:00:00",
          "2017-01-11T15:15:00",
          "2017-01-11T15:30:00",
          "2017-01-11T15:45:00",
          "2017-01-11T16:00:00",
          "2017-01-11T16:15:00",
          "2017-01-11T16:30:00",
          "2017-01-11T16:45:00",
          "2017-01-11T17:00:00",
          "2017-01-11T17:15:00",
          "2017-01-11T17:30:00",
          "2017-01-11T17:45:00",
          "2017-01-11T18:00:00",
          "2017-01-11T18:15:00"
         ]
        },
        {
         "marker": {
          "color": "crimson",
          "size": 10
         },
         "mode": "markers",
         "name": "Stop Loss",
         "type": "scatter",
         "x": [
          "2017-01-10T23:45:00",
          "2017-01-11T02:00:00",
          "2017-01-11T09:15:00",
          "2017-01-11T12:15:00",
          "2017-01-11T15:15:00"
         ],
         "y": [
          1.21927,
          1.22103,
          1.21853,
          1.216,
          1.21424
         ]
        },
        {
         "marker": {
          "color": "green",
          "size": 10
         },
         "mode": "markers",
         "name": "Stop Gain",
         "type": "scatter",
         "x": [
          "2017-01-10T23:45:00",
          "2017-01-11T02:00:00",
          "2017-01-11T09:15:00",
          "2017-01-11T12:15:00",
          "2017-01-11T15:15:00"
         ],
         "y": [
          1.21374,
          1.21288,
          1.20908,
          1.20465,
          1.20469
         ]
        },
        {
         "close": [],
         "decreasing": {
          "fillcolor": "blue",
          "line": {
           "color": "blue"
          }
         },
         "high": [],
         "increasing": {
          "fillcolor": "blue",
          "line": {
           "color": "blue"
          }
         },
         "line": {
          "width": 1
         },
         "low": [],
         "name": "Buy",
         "opacity": 1,
         "open": [],
         "type": "candlestick",
         "x": []
        },
        {
         "close": [
          1.21746,
          1.21782,
          1.21538,
          1.2116,
          1.2051
         ],
         "decreasing": {
          "fillcolor": "orange",
          "line": {
           "color": "orange"
          }
         },
         "high": [
          1.21746,
          1.21834,
          1.21552,
          1.2122,
          1.21066
         ],
         "increasing": {
          "fillcolor": "orange",
          "line": {
           "color": "orange"
          }
         },
         "line": {
          "width": 1
         },
         "low": [
          1.21714,
          1.21764,
          1.21362,
          1.21122,
          1.20384
         ],
         "name": "Sell",
         "opacity": 1,
         "open": [
          1.21721,
          1.2179,
          1.21484,
          1.21159,
          1.21053
         ],
         "type": "candlestick",
         "x": [
          "2017-01-10T23:45:00",
          "2017-01-11T02:00:00",
          "2017-01-11T09:15:00",
          "2017-01-11T12:15:00",
          "2017-01-11T15:15:00"
         ]
        },
        {
         "line": {
          "color": "purple",
          "shape": "spline",
          "width": 2
         },
         "mode": "lines",
         "name": "EMA",
         "type": "scatter",
         "x": [
          "2017-01-10T17:30:00",
          "2017-01-10T17:45:00",
          "2017-01-10T18:00:00",
          "2017-01-10T18:15:00",
          "2017-01-10T18:30:00",
          "2017-01-10T18:45:00",
          "2017-01-10T19:00:00",
          "2017-01-10T19:15:00",
          "2017-01-10T19:30:00",
          "2017-01-10T19:45:00",
          "2017-01-10T20:00:00",
          "2017-01-10T20:15:00",
          "2017-01-10T20:30:00",
          "2017-01-10T20:45:00",
          "2017-01-10T21:00:00",
          "2017-01-10T21:15:00",
          "2017-01-10T21:30:00",
          "2017-01-10T21:45:00",
          "2017-01-10T22:00:00",
          "2017-01-10T22:15:00",
          "2017-01-10T22:30:00",
          "2017-01-10T22:45:00",
          "2017-01-10T23:00:00",
          "2017-01-10T23:15:00",
          "2017-01-10T23:30:00",
          "2017-01-10T23:45:00",
          "2017-01-11T00:00:00",
          "2017-01-11T00:15:00",
          "2017-01-11T00:30:00",
          "2017-01-11T00:45:00",
          "2017-01-11T01:00:00",
          "2017-01-11T01:15:00",
          "2017-01-11T01:30:00",
          "2017-01-11T01:45:00",
          "2017-01-11T02:00:00",
          "2017-01-11T02:15:00",
          "2017-01-11T02:30:00",
          "2017-01-11T02:45:00",
          "2017-01-11T03:00:00",
          "2017-01-11T03:15:00",
          "2017-01-11T03:30:00",
          "2017-01-11T03:45:00",
          "2017-01-11T04:00:00",
          "2017-01-11T04:15:00",
          "2017-01-11T04:30:00",
          "2017-01-11T04:45:00",
          "2017-01-11T05:00:00",
          "2017-01-11T05:15:00",
          "2017-01-11T05:30:00",
          "2017-01-11T05:45:00",
          "2017-01-11T06:00:00",
          "2017-01-11T06:15:00",
          "2017-01-11T06:30:00",
          "2017-01-11T06:45:00",
          "2017-01-11T07:00:00",
          "2017-01-11T07:15:00",
          "2017-01-11T07:30:00",
          "2017-01-11T07:45:00",
          "2017-01-11T08:00:00",
          "2017-01-11T08:15:00",
          "2017-01-11T08:30:00",
          "2017-01-11T08:45:00",
          "2017-01-11T09:00:00",
          "2017-01-11T09:15:00",
          "2017-01-11T09:30:00",
          "2017-01-11T09:45:00",
          "2017-01-11T10:00:00",
          "2017-01-11T10:15:00",
          "2017-01-11T10:30:00",
          "2017-01-11T10:45:00",
          "2017-01-11T11:00:00",
          "2017-01-11T11:15:00",
          "2017-01-11T11:30:00",
          "2017-01-11T11:45:00",
          "2017-01-11T12:00:00",
          "2017-01-11T12:15:00",
          "2017-01-11T12:30:00",
          "2017-01-11T12:45:00",
          "2017-01-11T13:00:00",
          "2017-01-11T13:15:00",
          "2017-01-11T13:30:00",
          "2017-01-11T13:45:00",
          "2017-01-11T14:00:00",
          "2017-01-11T14:15:00",
          "2017-01-11T14:30:00",
          "2017-01-11T14:45:00",
          "2017-01-11T15:00:00",
          "2017-01-11T15:15:00",
          "2017-01-11T15:30:00",
          "2017-01-11T15:45:00",
          "2017-01-11T16:00:00",
          "2017-01-11T16:15:00",
          "2017-01-11T16:30:00",
          "2017-01-11T16:45:00",
          "2017-01-11T17:00:00",
          "2017-01-11T17:15:00",
          "2017-01-11T17:30:00",
          "2017-01-11T17:45:00",
          "2017-01-11T18:00:00",
          "2017-01-11T18:15:00"
         ],
         "y": [
          1.2193592876641168,
          1.2193246678863645,
          1.2192870094994355,
          1.2192471387581476,
          1.2192183115068227,
          1.2191894725863568,
          1.2191575375357462,
          1.2191240296995696,
          1.21909364134435,
          1.2190680329727646,
          1.2190402913511451,
          1.2190162088501386,
          1.218993261498396,
          1.2189720350158249,
          1.218951616756961,
          1.218931600669827,
          1.2189167588721173,
          1.2189042538087131,
          1.2188884900892234,
          1.2188720872027634,
          1.21885724056393,
          1.2188411486180202,
          1.2188266098258012,
          1.2188116186832558,
          1.2187955826764572,
          1.218782293296592,
          1.218786648587173,
          1.21878359735745,
          1.2187833625578732,
          1.2187763639254565,
          1.2187658528416212,
          1.2187620135098638,
          1.2187564213356363,
          1.2187478002278191,
          1.2187385683847562,
          1.218723358749087,
          1.2187059123933748,
          1.2186843610262765,
          1.2186658101702936,
          1.2186551055914847,
          1.218638537376644,
          1.2186208404873242,
          1.2185999366018783,
          1.218577051660566,
          1.2185521058728987,
          1.2185267117846112,
          1.2184975902743167,
          1.2184733356447215,
          1.2184469342950228,
          1.2184204971378585,
          1.218396910101661,
          1.2183726622399529,
          1.2183487551529881,
          1.2183275735096748,
          1.21830013496729,
          1.2182808301417447,
          1.2182676875532696,
          1.2182471135477644,
          1.2182201770945529,
          1.2181998768249553,
          1.2181783855132642,
          1.2181513369011918,
          1.2181187862852596,
          1.218091534680431,
          1.2180263452806257,
          1.2179691677156443,
          1.217911166046832,
          1.2178521494692516,
          1.2177978992257765,
          1.2177510544573609,
          1.2177189046617651,
          1.2176824976502052,
          1.2176384926984618,
          1.2175900499850443,
          1.2175298504827055,
          1.2174708469953153,
          1.2174146196620286,
          1.2173571607599187,
          1.217295099458825,
          1.2172306706084883,
          1.217180216174573,
          1.2171367314365176,
          1.2170924853525722,
          1.2170410178366262,
          1.2169925499974559,
          1.2169273504949936,
          1.2168641927786255,
          1.216747136134062,
          1.2166399009486486,
          1.2165452750685626,
          1.2164493021823082,
          1.2164013489267629,
          1.2163764598827156,
          1.2163279378938328,
          1.2162946250789688,
          1.2162734845309193,
          1.2162669821972782,
          1.2162632311306387,
          1.2163326517164035,
          1.2164103367739516
         ]
        }
       ],
       "layout": {
        "font": {
         "color": "#e1e1e1",
         "size": 10
        },
        "height": 600,
        "margin": {
         "b": 10,
         "l": 10,
         "r": 10,
         "t": 10
        },
        "paper_bgcolor": "#1e1e1e",
        "plot_bgcolor": "#1e1e1e",
        "template": {
         "data": {
          "bar": [
           {
            "error_x": {
             "color": "#2a3f5f"
            },
            "error_y": {
             "color": "#2a3f5f"
            },
            "marker": {
             "line": {
              "color": "#E5ECF6",
              "width": 0.5
             },
             "pattern": {
              "fillmode": "overlay",
              "size": 10,
              "solidity": 0.2
             }
            },
            "type": "bar"
           }
          ],
          "barpolar": [
           {
            "marker": {
             "line": {
              "color": "#E5ECF6",
              "width": 0.5
             },
             "pattern": {
              "fillmode": "overlay",
              "size": 10,
              "solidity": 0.2
             }
            },
            "type": "barpolar"
           }
          ],
          "carpet": [
           {
            "aaxis": {
             "endlinecolor": "#2a3f5f",
             "gridcolor": "white",
             "linecolor": "white",
             "minorgridcolor": "white",
             "startlinecolor": "#2a3f5f"
            },
            "baxis": {
             "endlinecolor": "#2a3f5f",
             "gridcolor": "white",
             "linecolor": "white",
             "minorgridcolor": "white",
             "startlinecolor": "#2a3f5f"
            },
            "type": "carpet"
           }
          ],
          "choropleth": [
           {
            "colorbar": {
             "outlinewidth": 0,
             "ticks": ""
            },
            "type": "choropleth"
           }
          ],
          "contour": [
           {
            "colorbar": {
             "outlinewidth": 0,
             "ticks": ""
            },
            "colorscale": [
             [
              0,
              "#0d0887"
             ],
             [
              0.1111111111111111,
              "#46039f"
             ],
             [
              0.2222222222222222,
              "#7201a8"
             ],
             [
              0.3333333333333333,
              "#9c179e"
             ],
             [
              0.4444444444444444,
              "#bd3786"
             ],
             [
              0.5555555555555556,
              "#d8576b"
             ],
             [
              0.6666666666666666,
              "#ed7953"
             ],
             [
              0.7777777777777778,
              "#fb9f3a"
             ],
             [
              0.8888888888888888,
              "#fdca26"
             ],
             [
              1,
              "#f0f921"
             ]
            ],
            "type": "contour"
           }
          ],
          "contourcarpet": [
           {
            "colorbar": {
             "outlinewidth": 0,
             "ticks": ""
            },
            "type": "contourcarpet"
           }
          ],
          "heatmap": [
           {
            "colorbar": {
             "outlinewidth": 0,
             "ticks": ""
            },
            "colorscale": [
             [
              0,
              "#0d0887"
             ],
             [
              0.1111111111111111,
              "#46039f"
             ],
             [
              0.2222222222222222,
              "#7201a8"
             ],
             [
              0.3333333333333333,
              "#9c179e"
             ],
             [
              0.4444444444444444,
              "#bd3786"
             ],
             [
              0.5555555555555556,
              "#d8576b"
             ],
             [
              0.6666666666666666,
              "#ed7953"
             ],
             [
              0.7777777777777778,
              "#fb9f3a"
             ],
             [
              0.8888888888888888,
              "#fdca26"
             ],
             [
              1,
              "#f0f921"
             ]
            ],
            "type": "heatmap"
           }
          ],
          "heatmapgl": [
           {
            "colorbar": {
             "outlinewidth": 0,
             "ticks": ""
            },
            "colorscale": [
             [
              0,
              "#0d0887"
             ],
             [
              0.1111111111111111,
              "#46039f"
             ],
             [
              0.2222222222222222,
              "#7201a8"
             ],
             [
              0.3333333333333333,
              "#9c179e"
             ],
             [
              0.4444444444444444,
              "#bd3786"
             ],
             [
              0.5555555555555556,
              "#d8576b"
             ],
             [
              0.6666666666666666,
              "#ed7953"
             ],
             [
              0.7777777777777778,
              "#fb9f3a"
             ],
             [
              0.8888888888888888,
              "#fdca26"
             ],
             [
              1,
              "#f0f921"
             ]
            ],
            "type": "heatmapgl"
           }
          ],
          "histogram": [
           {
            "marker": {
             "pattern": {
              "fillmode": "overlay",
              "size": 10,
              "solidity": 0.2
             }
            },
            "type": "histogram"
           }
          ],
          "histogram2d": [
           {
            "colorbar": {
             "outlinewidth": 0,
             "ticks": ""
            },
            "colorscale": [
             [
              0,
              "#0d0887"
             ],
             [
              0.1111111111111111,
              "#46039f"
             ],
             [
              0.2222222222222222,
              "#7201a8"
             ],
             [
              0.3333333333333333,
              "#9c179e"
             ],
             [
              0.4444444444444444,
              "#bd3786"
             ],
             [
              0.5555555555555556,
              "#d8576b"
             ],
             [
              0.6666666666666666,
              "#ed7953"
             ],
             [
              0.7777777777777778,
              "#fb9f3a"
             ],
             [
              0.8888888888888888,
              "#fdca26"
             ],
             [
              1,
              "#f0f921"
             ]
            ],
            "type": "histogram2d"
           }
          ],
          "histogram2dcontour": [
           {
            "colorbar": {
             "outlinewidth": 0,
             "ticks": ""
            },
            "colorscale": [
             [
              0,
              "#0d0887"
             ],
             [
              0.1111111111111111,
              "#46039f"
             ],
             [
              0.2222222222222222,
              "#7201a8"
             ],
             [
              0.3333333333333333,
              "#9c179e"
             ],
             [
              0.4444444444444444,
              "#bd3786"
             ],
             [
              0.5555555555555556,
              "#d8576b"
             ],
             [
              0.6666666666666666,
              "#ed7953"
             ],
             [
              0.7777777777777778,
              "#fb9f3a"
             ],
             [
              0.8888888888888888,
              "#fdca26"
             ],
             [
              1,
              "#f0f921"
             ]
            ],
            "type": "histogram2dcontour"
           }
          ],
          "mesh3d": [
           {
            "colorbar": {
             "outlinewidth": 0,
             "ticks": ""
            },
            "type": "mesh3d"
           }
          ],
          "parcoords": [
           {
            "line": {
             "colorbar": {
              "outlinewidth": 0,
              "ticks": ""
             }
            },
            "type": "parcoords"
           }
          ],
          "pie": [
           {
            "automargin": true,
            "type": "pie"
           }
          ],
          "scatter": [
           {
            "marker": {
             "colorbar": {
              "outlinewidth": 0,
              "ticks": ""
             }
            },
            "type": "scatter"
           }
          ],
          "scatter3d": [
           {
            "line": {
             "colorbar": {
              "outlinewidth": 0,
              "ticks": ""
             }
            },
            "marker": {
             "colorbar": {
              "outlinewidth": 0,
              "ticks": ""
             }
            },
            "type": "scatter3d"
           }
          ],
          "scattercarpet": [
           {
            "marker": {
             "colorbar": {
              "outlinewidth": 0,
              "ticks": ""
             }
            },
            "type": "scattercarpet"
           }
          ],
          "scattergeo": [
           {
            "marker": {
             "colorbar": {
              "outlinewidth": 0,
              "ticks": ""
             }
            },
            "type": "scattergeo"
           }
          ],
          "scattergl": [
           {
            "marker": {
             "colorbar": {
              "outlinewidth": 0,
              "ticks": ""
             }
            },
            "type": "scattergl"
           }
          ],
          "scattermapbox": [
           {
            "marker": {
             "colorbar": {
              "outlinewidth": 0,
              "ticks": ""
             }
            },
            "type": "scattermapbox"
           }
          ],
          "scatterpolar": [
           {
            "marker": {
             "colorbar": {
              "outlinewidth": 0,
              "ticks": ""
             }
            },
            "type": "scatterpolar"
           }
          ],
          "scatterpolargl": [
           {
            "marker": {
             "colorbar": {
              "outlinewidth": 0,
              "ticks": ""
             }
            },
            "type": "scatterpolargl"
           }
          ],
          "scatterternary": [
           {
            "marker": {
             "colorbar": {
              "outlinewidth": 0,
              "ticks": ""
             }
            },
            "type": "scatterternary"
           }
          ],
          "surface": [
           {
            "colorbar": {
             "outlinewidth": 0,
             "ticks": ""
            },
            "colorscale": [
             [
              0,
              "#0d0887"
             ],
             [
              0.1111111111111111,
              "#46039f"
             ],
             [
              0.2222222222222222,
              "#7201a8"
             ],
             [
              0.3333333333333333,
              "#9c179e"
             ],
             [
              0.4444444444444444,
              "#bd3786"
             ],
             [
              0.5555555555555556,
              "#d8576b"
             ],
             [
              0.6666666666666666,
              "#ed7953"
             ],
             [
              0.7777777777777778,
              "#fb9f3a"
             ],
             [
              0.8888888888888888,
              "#fdca26"
             ],
             [
              1,
              "#f0f921"
             ]
            ],
            "type": "surface"
           }
          ],
          "table": [
           {
            "cells": {
             "fill": {
              "color": "#EBF0F8"
             },
             "line": {
              "color": "white"
             }
            },
            "header": {
             "fill": {
              "color": "#C8D4E3"
             },
             "line": {
              "color": "white"
             }
            },
            "type": "table"
           }
          ]
         },
         "layout": {
          "annotationdefaults": {
           "arrowcolor": "#2a3f5f",
           "arrowhead": 0,
           "arrowwidth": 1
          },
          "autotypenumbers": "strict",
          "coloraxis": {
           "colorbar": {
            "outlinewidth": 0,
            "ticks": ""
           }
          },
          "colorscale": {
           "diverging": [
            [
             0,
             "#8e0152"
            ],
            [
             0.1,
             "#c51b7d"
            ],
            [
             0.2,
             "#de77ae"
            ],
            [
             0.3,
             "#f1b6da"
            ],
            [
             0.4,
             "#fde0ef"
            ],
            [
             0.5,
             "#f7f7f7"
            ],
            [
             0.6,
             "#e6f5d0"
            ],
            [
             0.7,
             "#b8e186"
            ],
            [
             0.8,
             "#7fbc41"
            ],
            [
             0.9,
             "#4d9221"
            ],
            [
             1,
             "#276419"
            ]
           ],
           "sequential": [
            [
             0,
             "#0d0887"
            ],
            [
             0.1111111111111111,
             "#46039f"
            ],
            [
             0.2222222222222222,
             "#7201a8"
            ],
            [
             0.3333333333333333,
             "#9c179e"
            ],
            [
             0.4444444444444444,
             "#bd3786"
            ],
            [
             0.5555555555555556,
             "#d8576b"
            ],
            [
             0.6666666666666666,
             "#ed7953"
            ],
            [
             0.7777777777777778,
             "#fb9f3a"
            ],
            [
             0.8888888888888888,
             "#fdca26"
            ],
            [
             1,
             "#f0f921"
            ]
           ],
           "sequentialminus": [
            [
             0,
             "#0d0887"
            ],
            [
             0.1111111111111111,
             "#46039f"
            ],
            [
             0.2222222222222222,
             "#7201a8"
            ],
            [
             0.3333333333333333,
             "#9c179e"
            ],
            [
             0.4444444444444444,
             "#bd3786"
            ],
            [
             0.5555555555555556,
             "#d8576b"
            ],
            [
             0.6666666666666666,
             "#ed7953"
            ],
            [
             0.7777777777777778,
             "#fb9f3a"
            ],
            [
             0.8888888888888888,
             "#fdca26"
            ],
            [
             1,
             "#f0f921"
            ]
           ]
          },
          "colorway": [
           "#636efa",
           "#EF553B",
           "#00cc96",
           "#ab63fa",
           "#FFA15A",
           "#19d3f3",
           "#FF6692",
           "#B6E880",
           "#FF97FF",
           "#FECB52"
          ],
          "font": {
           "color": "#2a3f5f"
          },
          "geo": {
           "bgcolor": "white",
           "lakecolor": "white",
           "landcolor": "#E5ECF6",
           "showlakes": true,
           "showland": true,
           "subunitcolor": "white"
          },
          "hoverlabel": {
           "align": "left"
          },
          "hovermode": "closest",
          "mapbox": {
           "style": "light"
          },
          "paper_bgcolor": "white",
          "plot_bgcolor": "#E5ECF6",
          "polar": {
           "angularaxis": {
            "gridcolor": "white",
            "linecolor": "white",
            "ticks": ""
           },
           "bgcolor": "#E5ECF6",
           "radialaxis": {
            "gridcolor": "white",
            "linecolor": "white",
            "ticks": ""
           }
          },
          "scene": {
           "xaxis": {
            "backgroundcolor": "#E5ECF6",
            "gridcolor": "white",
            "gridwidth": 2,
            "linecolor": "white",
            "showbackground": true,
            "ticks": "",
            "zerolinecolor": "white"
           },
           "yaxis": {
            "backgroundcolor": "#E5ECF6",
            "gridcolor": "white",
            "gridwidth": 2,
            "linecolor": "white",
            "showbackground": true,
            "ticks": "",
            "zerolinecolor": "white"
           },
           "zaxis": {
            "backgroundcolor": "#E5ECF6",
            "gridcolor": "white",
            "gridwidth": 2,
            "linecolor": "white",
            "showbackground": true,
            "ticks": "",
            "zerolinecolor": "white"
           }
          },
          "shapedefaults": {
           "line": {
            "color": "#2a3f5f"
           }
          },
          "ternary": {
           "aaxis": {
            "gridcolor": "white",
            "linecolor": "white",
            "ticks": ""
           },
           "baxis": {
            "gridcolor": "white",
            "linecolor": "white",
            "ticks": ""
           },
           "bgcolor": "#E5ECF6",
           "caxis": {
            "gridcolor": "white",
            "linecolor": "white",
            "ticks": ""
           }
          },
          "title": {
           "x": 0.05
          },
          "xaxis": {
           "automargin": true,
           "gridcolor": "white",
           "linecolor": "white",
           "ticks": "",
           "title": {
            "standoff": 15
           },
           "zerolinecolor": "white",
           "zerolinewidth": 2
          },
          "yaxis": {
           "automargin": true,
           "gridcolor": "white",
           "linecolor": "white",
           "ticks": "",
           "title": {
            "standoff": 15
           },
           "zerolinecolor": "white",
           "zerolinewidth": 2
          }
         }
        },
        "width": 1400,
        "xaxis": {
         "fixedrange": true,
         "gridcolor": "#1f292f",
         "rangebreaks": [
          {
           "bounds": [
            "sat",
            "mon"
           ]
          }
         ],
         "rangeslider": {
          "visible": false
         },
         "showgrid": true
        },
        "yaxis": {
         "gridcolor": "#1f292f",
         "showgrid": true
        }
       }
      }
     },
     "metadata": {}
    },
    {
     "output_type": "display_data",
     "data": {
      "application/vnd.plotly.v1+json": {
       "config": {
        "plotlyServerURL": "https://plot.ly"
       },
       "data": [
        {
         "line": {
          "color": "#03adfc",
          "shape": "spline",
          "width": 2
         },
         "mode": "lines",
         "name": "SIGNAL",
         "type": "scatter",
         "x": [
          "2017-01-10T17:30:00",
          "2017-01-10T17:45:00",
          "2017-01-10T18:00:00",
          "2017-01-10T18:15:00",
          "2017-01-10T18:30:00",
          "2017-01-10T18:45:00",
          "2017-01-10T19:00:00",
          "2017-01-10T19:15:00",
          "2017-01-10T19:30:00",
          "2017-01-10T19:45:00",
          "2017-01-10T20:00:00",
          "2017-01-10T20:15:00",
          "2017-01-10T20:30:00",
          "2017-01-10T20:45:00",
          "2017-01-10T21:00:00",
          "2017-01-10T21:15:00",
          "2017-01-10T21:30:00",
          "2017-01-10T21:45:00",
          "2017-01-10T22:00:00",
          "2017-01-10T22:15:00",
          "2017-01-10T22:30:00",
          "2017-01-10T22:45:00",
          "2017-01-10T23:00:00",
          "2017-01-10T23:15:00",
          "2017-01-10T23:30:00",
          "2017-01-10T23:45:00",
          "2017-01-11T00:00:00",
          "2017-01-11T00:15:00",
          "2017-01-11T00:30:00",
          "2017-01-11T00:45:00",
          "2017-01-11T01:00:00",
          "2017-01-11T01:15:00",
          "2017-01-11T01:30:00",
          "2017-01-11T01:45:00",
          "2017-01-11T02:00:00",
          "2017-01-11T02:15:00",
          "2017-01-11T02:30:00",
          "2017-01-11T02:45:00",
          "2017-01-11T03:00:00",
          "2017-01-11T03:15:00",
          "2017-01-11T03:30:00",
          "2017-01-11T03:45:00",
          "2017-01-11T04:00:00",
          "2017-01-11T04:15:00",
          "2017-01-11T04:30:00",
          "2017-01-11T04:45:00",
          "2017-01-11T05:00:00",
          "2017-01-11T05:15:00",
          "2017-01-11T05:30:00",
          "2017-01-11T05:45:00",
          "2017-01-11T06:00:00",
          "2017-01-11T06:15:00",
          "2017-01-11T06:30:00",
          "2017-01-11T06:45:00",
          "2017-01-11T07:00:00",
          "2017-01-11T07:15:00",
          "2017-01-11T07:30:00",
          "2017-01-11T07:45:00",
          "2017-01-11T08:00:00",
          "2017-01-11T08:15:00",
          "2017-01-11T08:30:00",
          "2017-01-11T08:45:00",
          "2017-01-11T09:00:00",
          "2017-01-11T09:15:00",
          "2017-01-11T09:30:00",
          "2017-01-11T09:45:00",
          "2017-01-11T10:00:00",
          "2017-01-11T10:15:00",
          "2017-01-11T10:30:00",
          "2017-01-11T10:45:00",
          "2017-01-11T11:00:00",
          "2017-01-11T11:15:00",
          "2017-01-11T11:30:00",
          "2017-01-11T11:45:00",
          "2017-01-11T12:00:00",
          "2017-01-11T12:15:00",
          "2017-01-11T12:30:00",
          "2017-01-11T12:45:00",
          "2017-01-11T13:00:00",
          "2017-01-11T13:15:00",
          "2017-01-11T13:30:00",
          "2017-01-11T13:45:00",
          "2017-01-11T14:00:00",
          "2017-01-11T14:15:00",
          "2017-01-11T14:30:00",
          "2017-01-11T14:45:00",
          "2017-01-11T15:00:00",
          "2017-01-11T15:15:00",
          "2017-01-11T15:30:00",
          "2017-01-11T15:45:00",
          "2017-01-11T16:00:00",
          "2017-01-11T16:15:00",
          "2017-01-11T16:30:00",
          "2017-01-11T16:45:00",
          "2017-01-11T17:00:00",
          "2017-01-11T17:15:00",
          "2017-01-11T17:30:00",
          "2017-01-11T17:45:00",
          "2017-01-11T18:00:00",
          "2017-01-11T18:15:00"
         ],
         "y": [
          0.00042582889039500155,
          0.00038287957011294094,
          0.000336581969442203,
          0.0002856974416811268,
          0.00025102543072225397,
          0.00022728190510115298,
          0.00020569029435655022,
          0.00018307918126166052,
          0.00016506433773618665,
          0.00015767798696277388,
          0.00015315213439481005,
          0.0001557318760859006,
          0.00016371098526704844,
          0.00017667606724207837,
          0.00019264119381120871,
          0.0002095297919666214,
          0.0002336115231970559,
          0.00026391689033439735,
          0.0002905084330612468,
          0.0003114397692270053,
          0.000329249926349301,
          0.0003411861056320254,
          0.0003502708612451731,
          0.00035533655873987234,
          0.0003548932224255902,
          0.0003543594455764603,
          0.0003810690790403836,
          0.000410779389854488,
          0.0004443439906576966,
          0.00046670312123381515,
          0.0004740594770249031,
          0.000481076188995787,
          0.0004835439263458853,
          0.00047698312829742054,
          0.00046290339689787825,
          0.00043406178231598805,
          0.0003926612560028899,
          0.00033780397783361873,
          0.0002810852903415662,
          0.00023781744491946014,
          0.0001951338150393028,
          0.00015253508304231773,
          0.00010645049958269933,
          0.000056844288243293634,
          0.00000383215304207388,
          -0.000049661308895110666,
          -0.0001069208196503804,
          -0.0001559564531588189,
          -0.00020074059432146127,
          -0.0002405334278233111,
          -0.0002704154278093384,
          -0.00029333861151192755,
          -0.0003098703506228421,
          -0.000316834573806925,
          -0.00032708522756212183,
          -0.000325508914122204,
          -0.0003062877694944235,
          -0.0002884420550211388,
          -0.00028226643210421557,
          -0.0002728749643393859,
          -0.00026357186457698947,
          -0.0002634646636878338,
          -0.00027777996569763473,
          -0.00029177425661976685,
          -0.0003654336848708236,
          -0.00045998955125476796,
          -0.0005638713344670778,
          -0.0006694202966639181,
          -0.0007622545643731315,
          -0.0008295071028384084,
          -0.0008524945905238975,
          -0.0008519285835729986,
          -0.0008474511887047742,
          -0.0008466430752405172,
          -0.000865871419714815,
          -0.0008937194851930391,
          -0.0009199634441980682,
          -0.0009446012407382561,
          -0.000973084130750882,
          -0.0010050523999176279,
          -0.0010138597726208245,
          -0.0009950074852162739,
          -0.0009594536333569642,
          -0.0009253934675018791,
          -0.0008879572423837175,
          -0.0008759447429361954,
          -0.0008762669837821758,
          -0.0009697365182064167,
          -0.001100598576674102,
          -0.0012270219301629276,
          -0.0013449087527580672,
          -0.0013727355145710086,
          -0.001303310384073118,
          -0.00121188912191,
          -0.0010850988881227568,
          -0.0009213277068536984,
          -0.000717728944740946,
          -0.0004938964683303737,
          -0.00015072491284793703,
          0.0002639589523359885
         ]
        },
        {
         "line": {
          "color": "#fc4a03",
          "shape": "spline",
          "width": 2
         },
         "mode": "lines",
         "name": "MACD",
         "type": "scatter",
         "x": [
          "2017-01-10T17:30:00",
          "2017-01-10T17:45:00",
          "2017-01-10T18:00:00",
          "2017-01-10T18:15:00",
          "2017-01-10T18:30:00",
          "2017-01-10T18:45:00",
          "2017-01-10T19:00:00",
          "2017-01-10T19:15:00",
          "2017-01-10T19:30:00",
          "2017-01-10T19:45:00",
          "2017-01-10T20:00:00",
          "2017-01-10T20:15:00",
          "2017-01-10T20:30:00",
          "2017-01-10T20:45:00",
          "2017-01-10T21:00:00",
          "2017-01-10T21:15:00",
          "2017-01-10T21:30:00",
          "2017-01-10T21:45:00",
          "2017-01-10T22:00:00",
          "2017-01-10T22:15:00",
          "2017-01-10T22:30:00",
          "2017-01-10T22:45:00",
          "2017-01-10T23:00:00",
          "2017-01-10T23:15:00",
          "2017-01-10T23:30:00",
          "2017-01-10T23:45:00",
          "2017-01-11T00:00:00",
          "2017-01-11T00:15:00",
          "2017-01-11T00:30:00",
          "2017-01-11T00:45:00",
          "2017-01-11T01:00:00",
          "2017-01-11T01:15:00",
          "2017-01-11T01:30:00",
          "2017-01-11T01:45:00",
          "2017-01-11T02:00:00",
          "2017-01-11T02:15:00",
          "2017-01-11T02:30:00",
          "2017-01-11T02:45:00",
          "2017-01-11T03:00:00",
          "2017-01-11T03:15:00",
          "2017-01-11T03:30:00",
          "2017-01-11T03:45:00",
          "2017-01-11T04:00:00",
          "2017-01-11T04:15:00",
          "2017-01-11T04:30:00",
          "2017-01-11T04:45:00",
          "2017-01-11T05:00:00",
          "2017-01-11T05:15:00",
          "2017-01-11T05:30:00",
          "2017-01-11T05:45:00",
          "2017-01-11T06:00:00",
          "2017-01-11T06:15:00",
          "2017-01-11T06:30:00",
          "2017-01-11T06:45:00",
          "2017-01-11T07:00:00",
          "2017-01-11T07:15:00",
          "2017-01-11T07:30:00",
          "2017-01-11T07:45:00",
          "2017-01-11T08:00:00",
          "2017-01-11T08:15:00",
          "2017-01-11T08:30:00",
          "2017-01-11T08:45:00",
          "2017-01-11T09:00:00",
          "2017-01-11T09:15:00",
          "2017-01-11T09:30:00",
          "2017-01-11T09:45:00",
          "2017-01-11T10:00:00",
          "2017-01-11T10:15:00",
          "2017-01-11T10:30:00",
          "2017-01-11T10:45:00",
          "2017-01-11T11:00:00",
          "2017-01-11T11:15:00",
          "2017-01-11T11:30:00",
          "2017-01-11T11:45:00",
          "2017-01-11T12:00:00",
          "2017-01-11T12:15:00",
          "2017-01-11T12:30:00",
          "2017-01-11T12:45:00",
          "2017-01-11T13:00:00",
          "2017-01-11T13:15:00",
          "2017-01-11T13:30:00",
          "2017-01-11T13:45:00",
          "2017-01-11T14:00:00",
          "2017-01-11T14:15:00",
          "2017-01-11T14:30:00",
          "2017-01-11T14:45:00",
          "2017-01-11T15:00:00",
          "2017-01-11T15:15:00",
          "2017-01-11T15:30:00",
          "2017-01-11T15:45:00",
          "2017-01-11T16:00:00",
          "2017-01-11T16:15:00",
          "2017-01-11T16:30:00",
          "2017-01-11T16:45:00",
          "2017-01-11T17:00:00",
          "2017-01-11T17:15:00",
          "2017-01-11T17:30:00",
          "2017-01-11T17:45:00",
          "2017-01-11T18:00:00",
          "2017-01-11T18:15:00"
         ],
         "y": [
          0.0002495808866034288,
          0.0002110822889846986,
          0.00015139156675925136,
          0.00008215933063682179,
          0.00011233738688676276,
          0.00013230780261674902,
          0.00011932385137813917,
          0.00009263472888210167,
          0.00009300496363429112,
          0.00012813258386912274,
          0.00013504872412295477,
          0.00016605084285026273,
          0.00019562742199163985,
          0.00022853639514219815,
          0.0002565017000877301,
          0.0002770841845882721,
          0.0003299384481187939,
          0.00038513835888376313,
          0.0003968746039686444,
          0.00039516511389003917,
          0.00040049055483848406,
          0.0003889308227629229,
          0.00038660988369776383,
          0.0003755993487186693,
          0.0003531198771684618,
          0.0003522243381799406,
          0.00048790761289607687,
          0.0005296206331109055,
          0.0005786023938705309,
          0.0005561396435382893,
          0.000503484900189255,
          0.0005091430368793226,
          0.0004934148757462786,
          0.00045073993610356133,
          0.0004065844712997091,
          0.00031869532398842715,
          0.0002270591507504971,
          0.00011837486515653417,
          0.00005421054037335615,
          0.00006474606323103593,
          0.00002439929551867337,
          -0.000017859844945622427,
          -0.00007788783425577428,
          -0.00014158055711432915,
          -0.00020821638776280516,
          -0.00026363515664384884,
          -0.00033595886267145936,
          -0.0003520989871925728,
          -0.00037987715897203067,
          -0.00039970476183071035,
          -0.0003899434277534475,
          -0.0003850313463222843,
          -0.00037599730706650014,
          -0.00034469146654325655,
          -0.0003680878425829093,
          -0.00031920366036253256,
          -0.00022940319098330164,
          -0.00021705919712800004,
          -0.00025756394043652264,
          -0.00023530909328006722,
          -0.00022635946552740371,
          -0.00026303586013121105,
          -0.0003350411737368386,
          -0.0003477514203082954,
          -0.0006600713978750505,
          -0.0008382130167905455,
          -0.000979398467316317,
          -0.0010916161454512796,
          -0.001133591635209985,
          -0.001098517256699516,
          -0.0009444445412658542,
          -0.0008496645557694027,
          -0.0008295416092318764,
          -0.0008434106213834891,
          -0.0009427847976120063,
          -0.0010051117471059356,
          -0.0010249392802181845,
          -0.0010431524268990078,
          -0.001087015690801385,
          -0.001132925476584612,
          -0.0010490892634336113,
          -0.0009195983355980708,
          -0.0008172382259197253,
          -0.0007891528040815388,
          -0.0007382123419110709,
          -0.0008278947451461072,
          -0.0008775559471660976,
          -0.0013436146559033801,
          -0.0016240468105448436,
          -0.0017327153441182297,
          -0.0018164560431386256,
          -0.0014840425618227737,
          -0.0010256098620815557,
          -0.0008462040732575282,
          -0.0005779379529737838,
          -0.00026624298177746475,
          0.00009666610371006357,
          0.0004014334373119155,
          0.0012219613090818093,
          0.0019226944130716905
         ]
        }
       ],
       "layout": {
        "font": {
         "color": "#e1e1e1",
         "size": 10
        },
        "height": 200,
        "margin": {
         "b": 10,
         "l": 10,
         "r": 10,
         "t": 10
        },
        "paper_bgcolor": "#1e1e1e",
        "plot_bgcolor": "#1e1e1e",
        "template": {
         "data": {
          "bar": [
           {
            "error_x": {
             "color": "#2a3f5f"
            },
            "error_y": {
             "color": "#2a3f5f"
            },
            "marker": {
             "line": {
              "color": "#E5ECF6",
              "width": 0.5
             },
             "pattern": {
              "fillmode": "overlay",
              "size": 10,
              "solidity": 0.2
             }
            },
            "type": "bar"
           }
          ],
          "barpolar": [
           {
            "marker": {
             "line": {
              "color": "#E5ECF6",
              "width": 0.5
             },
             "pattern": {
              "fillmode": "overlay",
              "size": 10,
              "solidity": 0.2
             }
            },
            "type": "barpolar"
           }
          ],
          "carpet": [
           {
            "aaxis": {
             "endlinecolor": "#2a3f5f",
             "gridcolor": "white",
             "linecolor": "white",
             "minorgridcolor": "white",
             "startlinecolor": "#2a3f5f"
            },
            "baxis": {
             "endlinecolor": "#2a3f5f",
             "gridcolor": "white",
             "linecolor": "white",
             "minorgridcolor": "white",
             "startlinecolor": "#2a3f5f"
            },
            "type": "carpet"
           }
          ],
          "choropleth": [
           {
            "colorbar": {
             "outlinewidth": 0,
             "ticks": ""
            },
            "type": "choropleth"
           }
          ],
          "contour": [
           {
            "colorbar": {
             "outlinewidth": 0,
             "ticks": ""
            },
            "colorscale": [
             [
              0,
              "#0d0887"
             ],
             [
              0.1111111111111111,
              "#46039f"
             ],
             [
              0.2222222222222222,
              "#7201a8"
             ],
             [
              0.3333333333333333,
              "#9c179e"
             ],
             [
              0.4444444444444444,
              "#bd3786"
             ],
             [
              0.5555555555555556,
              "#d8576b"
             ],
             [
              0.6666666666666666,
              "#ed7953"
             ],
             [
              0.7777777777777778,
              "#fb9f3a"
             ],
             [
              0.8888888888888888,
              "#fdca26"
             ],
             [
              1,
              "#f0f921"
             ]
            ],
            "type": "contour"
           }
          ],
          "contourcarpet": [
           {
            "colorbar": {
             "outlinewidth": 0,
             "ticks": ""
            },
            "type": "contourcarpet"
           }
          ],
          "heatmap": [
           {
            "colorbar": {
             "outlinewidth": 0,
             "ticks": ""
            },
            "colorscale": [
             [
              0,
              "#0d0887"
             ],
             [
              0.1111111111111111,
              "#46039f"
             ],
             [
              0.2222222222222222,
              "#7201a8"
             ],
             [
              0.3333333333333333,
              "#9c179e"
             ],
             [
              0.4444444444444444,
              "#bd3786"
             ],
             [
              0.5555555555555556,
              "#d8576b"
             ],
             [
              0.6666666666666666,
              "#ed7953"
             ],
             [
              0.7777777777777778,
              "#fb9f3a"
             ],
             [
              0.8888888888888888,
              "#fdca26"
             ],
             [
              1,
              "#f0f921"
             ]
            ],
            "type": "heatmap"
           }
          ],
          "heatmapgl": [
           {
            "colorbar": {
             "outlinewidth": 0,
             "ticks": ""
            },
            "colorscale": [
             [
              0,
              "#0d0887"
             ],
             [
              0.1111111111111111,
              "#46039f"
             ],
             [
              0.2222222222222222,
              "#7201a8"
             ],
             [
              0.3333333333333333,
              "#9c179e"
             ],
             [
              0.4444444444444444,
              "#bd3786"
             ],
             [
              0.5555555555555556,
              "#d8576b"
             ],
             [
              0.6666666666666666,
              "#ed7953"
             ],
             [
              0.7777777777777778,
              "#fb9f3a"
             ],
             [
              0.8888888888888888,
              "#fdca26"
             ],
             [
              1,
              "#f0f921"
             ]
            ],
            "type": "heatmapgl"
           }
          ],
          "histogram": [
           {
            "marker": {
             "pattern": {
              "fillmode": "overlay",
              "size": 10,
              "solidity": 0.2
             }
            },
            "type": "histogram"
           }
          ],
          "histogram2d": [
           {
            "colorbar": {
             "outlinewidth": 0,
             "ticks": ""
            },
            "colorscale": [
             [
              0,
              "#0d0887"
             ],
             [
              0.1111111111111111,
              "#46039f"
             ],
             [
              0.2222222222222222,
              "#7201a8"
             ],
             [
              0.3333333333333333,
              "#9c179e"
             ],
             [
              0.4444444444444444,
              "#bd3786"
             ],
             [
              0.5555555555555556,
              "#d8576b"
             ],
             [
              0.6666666666666666,
              "#ed7953"
             ],
             [
              0.7777777777777778,
              "#fb9f3a"
             ],
             [
              0.8888888888888888,
              "#fdca26"
             ],
             [
              1,
              "#f0f921"
             ]
            ],
            "type": "histogram2d"
           }
          ],
          "histogram2dcontour": [
           {
            "colorbar": {
             "outlinewidth": 0,
             "ticks": ""
            },
            "colorscale": [
             [
              0,
              "#0d0887"
             ],
             [
              0.1111111111111111,
              "#46039f"
             ],
             [
              0.2222222222222222,
              "#7201a8"
             ],
             [
              0.3333333333333333,
              "#9c179e"
             ],
             [
              0.4444444444444444,
              "#bd3786"
             ],
             [
              0.5555555555555556,
              "#d8576b"
             ],
             [
              0.6666666666666666,
              "#ed7953"
             ],
             [
              0.7777777777777778,
              "#fb9f3a"
             ],
             [
              0.8888888888888888,
              "#fdca26"
             ],
             [
              1,
              "#f0f921"
             ]
            ],
            "type": "histogram2dcontour"
           }
          ],
          "mesh3d": [
           {
            "colorbar": {
             "outlinewidth": 0,
             "ticks": ""
            },
            "type": "mesh3d"
           }
          ],
          "parcoords": [
           {
            "line": {
             "colorbar": {
              "outlinewidth": 0,
              "ticks": ""
             }
            },
            "type": "parcoords"
           }
          ],
          "pie": [
           {
            "automargin": true,
            "type": "pie"
           }
          ],
          "scatter": [
           {
            "marker": {
             "colorbar": {
              "outlinewidth": 0,
              "ticks": ""
             }
            },
            "type": "scatter"
           }
          ],
          "scatter3d": [
           {
            "line": {
             "colorbar": {
              "outlinewidth": 0,
              "ticks": ""
             }
            },
            "marker": {
             "colorbar": {
              "outlinewidth": 0,
              "ticks": ""
             }
            },
            "type": "scatter3d"
           }
          ],
          "scattercarpet": [
           {
            "marker": {
             "colorbar": {
              "outlinewidth": 0,
              "ticks": ""
             }
            },
            "type": "scattercarpet"
           }
          ],
          "scattergeo": [
           {
            "marker": {
             "colorbar": {
              "outlinewidth": 0,
              "ticks": ""
             }
            },
            "type": "scattergeo"
           }
          ],
          "scattergl": [
           {
            "marker": {
             "colorbar": {
              "outlinewidth": 0,
              "ticks": ""
             }
            },
            "type": "scattergl"
           }
          ],
          "scattermapbox": [
           {
            "marker": {
             "colorbar": {
              "outlinewidth": 0,
              "ticks": ""
             }
            },
            "type": "scattermapbox"
           }
          ],
          "scatterpolar": [
           {
            "marker": {
             "colorbar": {
              "outlinewidth": 0,
              "ticks": ""
             }
            },
            "type": "scatterpolar"
           }
          ],
          "scatterpolargl": [
           {
            "marker": {
             "colorbar": {
              "outlinewidth": 0,
              "ticks": ""
             }
            },
            "type": "scatterpolargl"
           }
          ],
          "scatterternary": [
           {
            "marker": {
             "colorbar": {
              "outlinewidth": 0,
              "ticks": ""
             }
            },
            "type": "scatterternary"
           }
          ],
          "surface": [
           {
            "colorbar": {
             "outlinewidth": 0,
             "ticks": ""
            },
            "colorscale": [
             [
              0,
              "#0d0887"
             ],
             [
              0.1111111111111111,
              "#46039f"
             ],
             [
              0.2222222222222222,
              "#7201a8"
             ],
             [
              0.3333333333333333,
              "#9c179e"
             ],
             [
              0.4444444444444444,
              "#bd3786"
             ],
             [
              0.5555555555555556,
              "#d8576b"
             ],
             [
              0.6666666666666666,
              "#ed7953"
             ],
             [
              0.7777777777777778,
              "#fb9f3a"
             ],
             [
              0.8888888888888888,
              "#fdca26"
             ],
             [
              1,
              "#f0f921"
             ]
            ],
            "type": "surface"
           }
          ],
          "table": [
           {
            "cells": {
             "fill": {
              "color": "#EBF0F8"
             },
             "line": {
              "color": "white"
             }
            },
            "header": {
             "fill": {
              "color": "#C8D4E3"
             },
             "line": {
              "color": "white"
             }
            },
            "type": "table"
           }
          ]
         },
         "layout": {
          "annotationdefaults": {
           "arrowcolor": "#2a3f5f",
           "arrowhead": 0,
           "arrowwidth": 1
          },
          "autotypenumbers": "strict",
          "coloraxis": {
           "colorbar": {
            "outlinewidth": 0,
            "ticks": ""
           }
          },
          "colorscale": {
           "diverging": [
            [
             0,
             "#8e0152"
            ],
            [
             0.1,
             "#c51b7d"
            ],
            [
             0.2,
             "#de77ae"
            ],
            [
             0.3,
             "#f1b6da"
            ],
            [
             0.4,
             "#fde0ef"
            ],
            [
             0.5,
             "#f7f7f7"
            ],
            [
             0.6,
             "#e6f5d0"
            ],
            [
             0.7,
             "#b8e186"
            ],
            [
             0.8,
             "#7fbc41"
            ],
            [
             0.9,
             "#4d9221"
            ],
            [
             1,
             "#276419"
            ]
           ],
           "sequential": [
            [
             0,
             "#0d0887"
            ],
            [
             0.1111111111111111,
             "#46039f"
            ],
            [
             0.2222222222222222,
             "#7201a8"
            ],
            [
             0.3333333333333333,
             "#9c179e"
            ],
            [
             0.4444444444444444,
             "#bd3786"
            ],
            [
             0.5555555555555556,
             "#d8576b"
            ],
            [
             0.6666666666666666,
             "#ed7953"
            ],
            [
             0.7777777777777778,
             "#fb9f3a"
            ],
            [
             0.8888888888888888,
             "#fdca26"
            ],
            [
             1,
             "#f0f921"
            ]
           ],
           "sequentialminus": [
            [
             0,
             "#0d0887"
            ],
            [
             0.1111111111111111,
             "#46039f"
            ],
            [
             0.2222222222222222,
             "#7201a8"
            ],
            [
             0.3333333333333333,
             "#9c179e"
            ],
            [
             0.4444444444444444,
             "#bd3786"
            ],
            [
             0.5555555555555556,
             "#d8576b"
            ],
            [
             0.6666666666666666,
             "#ed7953"
            ],
            [
             0.7777777777777778,
             "#fb9f3a"
            ],
            [
             0.8888888888888888,
             "#fdca26"
            ],
            [
             1,
             "#f0f921"
            ]
           ]
          },
          "colorway": [
           "#636efa",
           "#EF553B",
           "#00cc96",
           "#ab63fa",
           "#FFA15A",
           "#19d3f3",
           "#FF6692",
           "#B6E880",
           "#FF97FF",
           "#FECB52"
          ],
          "font": {
           "color": "#2a3f5f"
          },
          "geo": {
           "bgcolor": "white",
           "lakecolor": "white",
           "landcolor": "#E5ECF6",
           "showlakes": true,
           "showland": true,
           "subunitcolor": "white"
          },
          "hoverlabel": {
           "align": "left"
          },
          "hovermode": "closest",
          "mapbox": {
           "style": "light"
          },
          "paper_bgcolor": "white",
          "plot_bgcolor": "#E5ECF6",
          "polar": {
           "angularaxis": {
            "gridcolor": "white",
            "linecolor": "white",
            "ticks": ""
           },
           "bgcolor": "#E5ECF6",
           "radialaxis": {
            "gridcolor": "white",
            "linecolor": "white",
            "ticks": ""
           }
          },
          "scene": {
           "xaxis": {
            "backgroundcolor": "#E5ECF6",
            "gridcolor": "white",
            "gridwidth": 2,
            "linecolor": "white",
            "showbackground": true,
            "ticks": "",
            "zerolinecolor": "white"
           },
           "yaxis": {
            "backgroundcolor": "#E5ECF6",
            "gridcolor": "white",
            "gridwidth": 2,
            "linecolor": "white",
            "showbackground": true,
            "ticks": "",
            "zerolinecolor": "white"
           },
           "zaxis": {
            "backgroundcolor": "#E5ECF6",
            "gridcolor": "white",
            "gridwidth": 2,
            "linecolor": "white",
            "showbackground": true,
            "ticks": "",
            "zerolinecolor": "white"
           }
          },
          "shapedefaults": {
           "line": {
            "color": "#2a3f5f"
           }
          },
          "ternary": {
           "aaxis": {
            "gridcolor": "white",
            "linecolor": "white",
            "ticks": ""
           },
           "baxis": {
            "gridcolor": "white",
            "linecolor": "white",
            "ticks": ""
           },
           "bgcolor": "#E5ECF6",
           "caxis": {
            "gridcolor": "white",
            "linecolor": "white",
            "ticks": ""
           }
          },
          "title": {
           "x": 0.05
          },
          "xaxis": {
           "automargin": true,
           "gridcolor": "white",
           "linecolor": "white",
           "ticks": "",
           "title": {
            "standoff": 15
           },
           "zerolinecolor": "white",
           "zerolinewidth": 2
          },
          "yaxis": {
           "automargin": true,
           "gridcolor": "white",
           "linecolor": "white",
           "ticks": "",
           "title": {
            "standoff": 15
           },
           "zerolinecolor": "white",
           "zerolinewidth": 2
          }
         }
        },
        "width": 1400,
        "xaxis": {
         "fixedrange": true,
         "gridcolor": "#1f292f",
         "rangebreaks": [
          {
           "bounds": [
            "sat",
            "mon"
           ]
          }
         ],
         "rangeslider": {
          "visible": false
         },
         "showgrid": true
        },
        "yaxis": {
         "gridcolor": "#1f292f",
         "showgrid": true
        }
       }
      }
     },
     "metadata": {}
    }
   ],
   "metadata": {}
  },
  {
   "cell_type": "code",
   "execution_count": null,
   "source": [
    "len(df)"
   ],
   "outputs": [],
   "metadata": {}
  },
  {
   "cell_type": "code",
   "execution_count": null,
   "source": [
    "df.Date[0]"
   ],
   "outputs": [],
   "metadata": {}
  },
  {
   "cell_type": "code",
   "execution_count": null,
   "source": [],
   "outputs": [],
   "metadata": {}
  }
 ],
 "metadata": {
  "orig_nbformat": 4,
  "language_info": {
   "name": "python",
   "version": "3.7.6",
   "mimetype": "text/x-python",
   "codemirror_mode": {
    "name": "ipython",
    "version": 3
   },
   "pygments_lexer": "ipython3",
   "nbconvert_exporter": "python",
   "file_extension": ".py"
  },
  "kernelspec": {
   "name": "python3",
   "display_name": "Python 3.7.6 64-bit ('venv': venv)"
  },
  "interpreter": {
   "hash": "a68a124b582b9f8e9a79ac2a8b73e5755a8ac8794fd962094c1813dea561a02f"
  }
 },
 "nbformat": 4,
 "nbformat_minor": 2
}